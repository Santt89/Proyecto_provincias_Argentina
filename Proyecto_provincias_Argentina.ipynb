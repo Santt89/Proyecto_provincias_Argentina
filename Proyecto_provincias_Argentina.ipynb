{
  "nbformat": 4,
  "nbformat_minor": 0,
  "metadata": {
    "colab": {
      "provenance": [],
      "include_colab_link": true
    },
    "kernelspec": {
      "name": "python3",
      "display_name": "Python 3"
    },
    "language_info": {
      "name": "python"
    }
  },
  "cells": [
    {
      "cell_type": "markdown",
      "metadata": {
        "id": "view-in-github",
        "colab_type": "text"
      },
      "source": [
        "<a href=\"https://colab.research.google.com/github/Santt89/Proyecto_provincias_Argentina/blob/main/Proyecto_provincias_Argentina.ipynb\" target=\"_parent\"><img src=\"https://colab.research.google.com/assets/colab-badge.svg\" alt=\"Open In Colab\"/></a>"
      ]
    },
    {
      "cell_type": "markdown",
      "source": [
        "# **Proyecto 1**\n",
        "\n",
        "# **Fundamentos de Ciencia de Datos**"
      ],
      "metadata": {
        "id": "gGOJnVX50ypW"
      }
    },
    {
      "cell_type": "markdown",
      "source": [
        "En primer lugar importamos las librerias necesarias para realizar nuestro análisis."
      ],
      "metadata": {
        "id": "rxkcWLqsoT3P"
      }
    },
    {
      "cell_type": "code",
      "execution_count": 1,
      "metadata": {
        "id": "QzpuHlbWZga-"
      },
      "outputs": [],
      "source": [
        "import pandas as pd\n",
        "import numpy as np\n",
        "from google.colab.data_table import DataTable\n",
        "import seaborn as sns\n",
        "import matplotlib.pyplot as plt"
      ]
    },
    {
      "cell_type": "markdown",
      "source": [
        "Cargamos el csv: `provicias_datos_2022.csv`\n",
        "\n",
        "Para cargarlo le especificamos a la función **read_csv** de la libreria Pandas los siguientes argumentos:\n",
        "\n",
        "*   Nombre del archivo a leer = 'provicias_datos_2022.csv'\n",
        "*   delimiter = ' ; ' : Aqui establecemos que los delimitadores entre los datos seran ;\n",
        "*   Header = 3 : Aqui establecemos que el encabezado comienze en el renglon 3, ya que luego de ver el conjunto de datos, nos dimos cuenta que la informacion comienza en dicho renglon.\n",
        "\n"
      ],
      "metadata": {
        "id": "qgl-Zq7-dIXE"
      }
    },
    {
      "cell_type": "code",
      "source": [
        "prov = pd.read_csv('provicias_datos_2022.csv' , delimiter = ';' , header = 3)"
      ],
      "metadata": {
        "id": "OFBXXccIZlzu"
      },
      "execution_count": 2,
      "outputs": []
    },
    {
      "cell_type": "code",
      "source": [
        "DataTable(prov)"
      ],
      "metadata": {
        "id": "YUUAFB84pIAX",
        "colab": {
          "base_uri": "https://localhost:8080/",
          "height": 641
        },
        "outputId": "b0037e81-a91f-41ef-b9dc-8c7bd377e5c4"
      },
      "execution_count": 3,
      "outputs": [
        {
          "output_type": "execute_result",
          "data": {
            "text/html": [
              "<div>\n",
              "<style scoped>\n",
              "    .dataframe tbody tr th:only-of-type {\n",
              "        vertical-align: middle;\n",
              "    }\n",
              "\n",
              "    .dataframe tbody tr th {\n",
              "        vertical-align: top;\n",
              "    }\n",
              "\n",
              "    .dataframe thead th {\n",
              "        text-align: right;\n",
              "    }\n",
              "</style>\n",
              "<table border=\"1\" class=\"dataframe\">\n",
              "  <thead>\n",
              "    <tr style=\"text-align: right;\">\n",
              "      <th></th>\n",
              "      <th>PROVINCIa</th>\n",
              "      <th>población (miles)</th>\n",
              "      <th>hogares (miles)</th>\n",
              "      <th>ingresos laborales (miles pesos)</th>\n",
              "      <th>tasa de empleo (%)</th>\n",
              "      <th>superficie (km2)</th>\n",
              "      <th>exportaciones (mill usd)</th>\n",
              "    </tr>\n",
              "  </thead>\n",
              "  <tbody>\n",
              "    <tr>\n",
              "      <th>0</th>\n",
              "      <td>Ciudad Autónoma de Buenos Aires</td>\n",
              "      <td>3.004</td>\n",
              "      <td>1.263</td>\n",
              "      <td>211.877.384</td>\n",
              "      <td>4,7</td>\n",
              "      <td>205,9</td>\n",
              "      <td>311,163</td>\n",
              "    </tr>\n",
              "    <tr>\n",
              "      <th>1</th>\n",
              "      <td>Buenos Aires</td>\n",
              "      <td>17.292</td>\n",
              "      <td>5.738</td>\n",
              "      <td>623.250.917</td>\n",
              "      <td>8,7</td>\n",
              "      <td>305.907,40</td>\n",
              "      <td>33024,657</td>\n",
              "    </tr>\n",
              "    <tr>\n",
              "      <th>2</th>\n",
              "      <td>Catamarca</td>\n",
              "      <td>336.000</td>\n",
              "      <td>102.000</td>\n",
              "      <td>8.460.986</td>\n",
              "      <td>7,3</td>\n",
              "      <td>101.486,10</td>\n",
              "      <td>201,03</td>\n",
              "    </tr>\n",
              "    <tr>\n",
              "      <th>3</th>\n",
              "      <td>Chaco</td>\n",
              "      <td>3.477</td>\n",
              "      <td>1.251</td>\n",
              "      <td>122.790.341</td>\n",
              "      <td>6,5</td>\n",
              "      <td>99.763,30</td>\n",
              "      <td>516,336</td>\n",
              "    </tr>\n",
              "    <tr>\n",
              "      <th>4</th>\n",
              "      <td>Chubut</td>\n",
              "      <td>967.000</td>\n",
              "      <td>287.000</td>\n",
              "      <td>24.733.558</td>\n",
              "      <td>5,3</td>\n",
              "      <td>224.302,30</td>\n",
              "      <td>2575,372</td>\n",
              "    </tr>\n",
              "    <tr>\n",
              "      <th>5</th>\n",
              "      <td>Córdoba</td>\n",
              "      <td>1.044</td>\n",
              "      <td>321.000</td>\n",
              "      <td>22.744.468</td>\n",
              "      <td>2,6</td>\n",
              "      <td>164.707,80</td>\n",
              "      <td>12851,979</td>\n",
              "    </tr>\n",
              "    <tr>\n",
              "      <th>6</th>\n",
              "      <td>Corrientes</td>\n",
              "      <td>591.000</td>\n",
              "      <td>205.000</td>\n",
              "      <td>30.606.036</td>\n",
              "      <td>3,6</td>\n",
              "      <td>89.123,30</td>\n",
              "      <td>273,185</td>\n",
              "    </tr>\n",
              "    <tr>\n",
              "      <th>7</th>\n",
              "      <td>Entre Ríos</td>\n",
              "      <td>1.252</td>\n",
              "      <td>431.000</td>\n",
              "      <td>40.510.249</td>\n",
              "      <td>6,4</td>\n",
              "      <td>78.383,70</td>\n",
              "      <td>1911,902</td>\n",
              "    </tr>\n",
              "    <tr>\n",
              "      <th>8</th>\n",
              "      <td>Formosa</td>\n",
              "      <td>509.000</td>\n",
              "      <td>148.000</td>\n",
              "      <td>9.586.123</td>\n",
              "      <td>3,3</td>\n",
              "      <td>75.488,30</td>\n",
              "      <td>40,614</td>\n",
              "    </tr>\n",
              "    <tr>\n",
              "      <th>9</th>\n",
              "      <td>Jujuy</td>\n",
              "      <td>696.000</td>\n",
              "      <td>197.000</td>\n",
              "      <td>17.044.750</td>\n",
              "      <td>5,1</td>\n",
              "      <td>53.244,20</td>\n",
              "      <td>873,44</td>\n",
              "    </tr>\n",
              "    <tr>\n",
              "      <th>10</th>\n",
              "      <td>La Pampa</td>\n",
              "      <td>317.000</td>\n",
              "      <td>116.000</td>\n",
              "      <td>12.180.994</td>\n",
              "      <td>6,9</td>\n",
              "      <td>143.492,50</td>\n",
              "      <td>1205,864</td>\n",
              "    </tr>\n",
              "    <tr>\n",
              "      <th>11</th>\n",
              "      <td>La Rioja</td>\n",
              "      <td>356.000</td>\n",
              "      <td>108.000</td>\n",
              "      <td>8.646.574</td>\n",
              "      <td>4,5</td>\n",
              "      <td>91.493,70</td>\n",
              "      <td>186,786</td>\n",
              "    </tr>\n",
              "    <tr>\n",
              "      <th>12</th>\n",
              "      <td>Mendoza</td>\n",
              "      <td>1.668</td>\n",
              "      <td>535.000</td>\n",
              "      <td>51.306.457</td>\n",
              "      <td>6,2</td>\n",
              "      <td>149.069,20</td>\n",
              "      <td>1601,428</td>\n",
              "    </tr>\n",
              "    <tr>\n",
              "      <th>13</th>\n",
              "      <td>Misiones</td>\n",
              "      <td>1.003</td>\n",
              "      <td>342.000</td>\n",
              "      <td>29.639.104</td>\n",
              "      <td>3,3</td>\n",
              "      <td>29.911,40</td>\n",
              "      <td>438,241</td>\n",
              "    </tr>\n",
              "    <tr>\n",
              "      <th>14</th>\n",
              "      <td>Neuquén</td>\n",
              "      <td>612.000</td>\n",
              "      <td>204.000</td>\n",
              "      <td>28.573.541</td>\n",
              "      <td>5</td>\n",
              "      <td>94.422</td>\n",
              "      <td>2912,27</td>\n",
              "    </tr>\n",
              "    <tr>\n",
              "      <th>15</th>\n",
              "      <td>Río Negro</td>\n",
              "      <td>687.000</td>\n",
              "      <td>260.000</td>\n",
              "      <td>NaN</td>\n",
              "      <td>6</td>\n",
              "      <td>202.168,60</td>\n",
              "      <td>460,058</td>\n",
              "    </tr>\n",
              "    <tr>\n",
              "      <th>16</th>\n",
              "      <td>Salta</td>\n",
              "      <td>1.307</td>\n",
              "      <td>355.000</td>\n",
              "      <td>33.247.155</td>\n",
              "      <td>6,6</td>\n",
              "      <td>155.340,50</td>\n",
              "      <td>1326,821</td>\n",
              "    </tr>\n",
              "    <tr>\n",
              "      <th>17</th>\n",
              "      <td>San Juan</td>\n",
              "      <td>699.000</td>\n",
              "      <td>202.000</td>\n",
              "      <td>23.036.779</td>\n",
              "      <td>3,1</td>\n",
              "      <td>88.296,20</td>\n",
              "      <td>1162,933</td>\n",
              "    </tr>\n",
              "    <tr>\n",
              "      <th>18</th>\n",
              "      <td>San Luis</td>\n",
              "      <td>NaN</td>\n",
              "      <td>148.000</td>\n",
              "      <td>14.056.915</td>\n",
              "      <td>1,7</td>\n",
              "      <td>75.347,10</td>\n",
              "      <td>879,344</td>\n",
              "    </tr>\n",
              "    <tr>\n",
              "      <th>19</th>\n",
              "      <td>Santa Cruz</td>\n",
              "      <td>379.000</td>\n",
              "      <td>133.000</td>\n",
              "      <td>19.517.125</td>\n",
              "      <td>5,1</td>\n",
              "      <td>244.457,50</td>\n",
              "      <td>2242,114</td>\n",
              "    </tr>\n",
              "    <tr>\n",
              "      <th>20</th>\n",
              "      <td>Santa Fe</td>\n",
              "      <td>3.311</td>\n",
              "      <td>1.215</td>\n",
              "      <td>135.661.847</td>\n",
              "      <td>5,4</td>\n",
              "      <td>133.249,10</td>\n",
              "      <td>19162,52</td>\n",
              "    </tr>\n",
              "    <tr>\n",
              "      <th>21</th>\n",
              "      <td>Santiago del Estero</td>\n",
              "      <td>730.000</td>\n",
              "      <td>213.000</td>\n",
              "      <td>16.504.869</td>\n",
              "      <td>3.0</td>\n",
              "      <td>136.934,30</td>\n",
              "      <td>1545,387</td>\n",
              "    </tr>\n",
              "    <tr>\n",
              "      <th>22</th>\n",
              "      <td>Tucumán</td>\n",
              "      <td>1.403</td>\n",
              "      <td>403.000</td>\n",
              "      <td>34.757.143</td>\n",
              "      <td>6,3</td>\n",
              "      <td>910.324,40</td>\n",
              "      <td>953,715</td>\n",
              "    </tr>\n",
              "    <tr>\n",
              "      <th>23</th>\n",
              "      <td>Tierra del Fuego</td>\n",
              "      <td>172.000</td>\n",
              "      <td>60.000</td>\n",
              "      <td>12.059.449</td>\n",
              "      <td>110</td>\n",
              "      <td>22.592,10</td>\n",
              "      <td>382,966</td>\n",
              "    </tr>\n",
              "  </tbody>\n",
              "</table>\n",
              "</div>"
            ],
            "application/vnd.google.colaboratory.module+javascript": "\n      import \"https://ssl.gstatic.com/colaboratory/data_table/881c4a0d49046431/data_table.js\";\n\n      const table = window.createDataTable({\n        data: [[{\n            'v': 0,\n            'f': \"0\",\n        },\n\"Ciudad Aut\\u00f3noma de Buenos Aires\",\n{\n            'v': 3.004,\n            'f': \"3.004\",\n        },\n{\n            'v': 1.263,\n            'f': \"1.263\",\n        },\n\"211.877.384\",\n\"4,7\",\n\"205,9\",\n\"311,163\"],\n [{\n            'v': 1,\n            'f': \"1\",\n        },\n\"Buenos Aires\",\n{\n            'v': 17.292,\n            'f': \"17.292\",\n        },\n{\n            'v': 5.738,\n            'f': \"5.738\",\n        },\n\"623.250.917\",\n\"8,7\",\n\"305.907,40\",\n\"33024,657\"],\n [{\n            'v': 2,\n            'f': \"2\",\n        },\n\"Catamarca\",\n{\n            'v': 336.0,\n            'f': \"336.0\",\n        },\n{\n            'v': 102.0,\n            'f': \"102.0\",\n        },\n\"8.460.986\",\n\"7,3\",\n\"101.486,10\",\n\"201,03\"],\n [{\n            'v': 3,\n            'f': \"3\",\n        },\n\"Chaco\",\n{\n            'v': 3.477,\n            'f': \"3.477\",\n        },\n{\n            'v': 1.251,\n            'f': \"1.251\",\n        },\n\"122.790.341\",\n\"6,5\",\n\"99.763,30\",\n\"516,336\"],\n [{\n            'v': 4,\n            'f': \"4\",\n        },\n\"Chubut\",\n{\n            'v': 967.0,\n            'f': \"967.0\",\n        },\n{\n            'v': 287.0,\n            'f': \"287.0\",\n        },\n\"24.733.558\",\n\"5,3\",\n\"224.302,30\",\n\"2575,372\"],\n [{\n            'v': 5,\n            'f': \"5\",\n        },\n\"C\\u00f3rdoba\",\n{\n            'v': 1.044,\n            'f': \"1.044\",\n        },\n{\n            'v': 321.0,\n            'f': \"321.0\",\n        },\n\"22.744.468\",\n\"2,6\",\n\"164.707,80\",\n\"12851,979\"],\n [{\n            'v': 6,\n            'f': \"6\",\n        },\n\"Corrientes\",\n{\n            'v': 591.0,\n            'f': \"591.0\",\n        },\n{\n            'v': 205.0,\n            'f': \"205.0\",\n        },\n\"30.606.036\",\n\"3,6\",\n\"89.123,30\",\n\"273,185\"],\n [{\n            'v': 7,\n            'f': \"7\",\n        },\n\"Entre R\\u00edos\",\n{\n            'v': 1.252,\n            'f': \"1.252\",\n        },\n{\n            'v': 431.0,\n            'f': \"431.0\",\n        },\n\"40.510.249\",\n\"6,4\",\n\"78.383,70\",\n\"1911,902\"],\n [{\n            'v': 8,\n            'f': \"8\",\n        },\n\"Formosa\",\n{\n            'v': 509.0,\n            'f': \"509.0\",\n        },\n{\n            'v': 148.0,\n            'f': \"148.0\",\n        },\n\"9.586.123\",\n\"3,3\",\n\"75.488,30\",\n\"40,614\"],\n [{\n            'v': 9,\n            'f': \"9\",\n        },\n\"Jujuy\",\n{\n            'v': 696.0,\n            'f': \"696.0\",\n        },\n{\n            'v': 197.0,\n            'f': \"197.0\",\n        },\n\"17.044.750\",\n\"5,1\",\n\"53.244,20\",\n\"873,44\"],\n [{\n            'v': 10,\n            'f': \"10\",\n        },\n\"La Pampa\",\n{\n            'v': 317.0,\n            'f': \"317.0\",\n        },\n{\n            'v': 116.0,\n            'f': \"116.0\",\n        },\n\"12.180.994\",\n\"6,9\",\n\"143.492,50\",\n\"1205,864\"],\n [{\n            'v': 11,\n            'f': \"11\",\n        },\n\"La Rioja\",\n{\n            'v': 356.0,\n            'f': \"356.0\",\n        },\n{\n            'v': 108.0,\n            'f': \"108.0\",\n        },\n\"8.646.574\",\n\"4,5\",\n\"91.493,70\",\n\"186,786\"],\n [{\n            'v': 12,\n            'f': \"12\",\n        },\n\"Mendoza\",\n{\n            'v': 1.668,\n            'f': \"1.668\",\n        },\n{\n            'v': 535.0,\n            'f': \"535.0\",\n        },\n\"51.306.457\",\n\"6,2\",\n\"149.069,20\",\n\"1601,428\"],\n [{\n            'v': 13,\n            'f': \"13\",\n        },\n\"Misiones\",\n{\n            'v': 1.003,\n            'f': \"1.003\",\n        },\n{\n            'v': 342.0,\n            'f': \"342.0\",\n        },\n\"29.639.104\",\n\"3,3\",\n\"29.911,40\",\n\"438,241\"],\n [{\n            'v': 14,\n            'f': \"14\",\n        },\n\"Neuqu\\u00e9n\",\n{\n            'v': 612.0,\n            'f': \"612.0\",\n        },\n{\n            'v': 204.0,\n            'f': \"204.0\",\n        },\n\"28.573.541\",\n\"5\",\n\"94.422\",\n\"2912,27\"],\n [{\n            'v': 15,\n            'f': \"15\",\n        },\n\"R\\u00edo Negro\",\n{\n            'v': 687.0,\n            'f': \"687.0\",\n        },\n{\n            'v': 260.0,\n            'f': \"260.0\",\n        },\nNaN,\n\"6\",\n\"202.168,60\",\n\"460,058\"],\n [{\n            'v': 16,\n            'f': \"16\",\n        },\n\"Salta\",\n{\n            'v': 1.307,\n            'f': \"1.307\",\n        },\n{\n            'v': 355.0,\n            'f': \"355.0\",\n        },\n\"33.247.155\",\n\"6,6\",\n\"155.340,50\",\n\"1326,821\"],\n [{\n            'v': 17,\n            'f': \"17\",\n        },\n\"San Juan\",\n{\n            'v': 699.0,\n            'f': \"699.0\",\n        },\n{\n            'v': 202.0,\n            'f': \"202.0\",\n        },\n\"23.036.779\",\n\"3,1\",\n\"88.296,20\",\n\"1162,933\"],\n [{\n            'v': 18,\n            'f': \"18\",\n        },\n\"San Luis\",\n{\n            'v': NaN,\n            'f': \"NaN\",\n        },\n{\n            'v': 148.0,\n            'f': \"148.0\",\n        },\n\"14.056.915\",\n\"1,7\",\n\"75.347,10\",\n\"879,344\"],\n [{\n            'v': 19,\n            'f': \"19\",\n        },\n\"Santa Cruz\",\n{\n            'v': 379.0,\n            'f': \"379.0\",\n        },\n{\n            'v': 133.0,\n            'f': \"133.0\",\n        },\n\"19.517.125\",\n\"5,1\",\n\"244.457,50\",\n\"2242,114\"],\n [{\n            'v': 20,\n            'f': \"20\",\n        },\n\"Santa Fe\",\n{\n            'v': 3.311,\n            'f': \"3.311\",\n        },\n{\n            'v': 1.215,\n            'f': \"1.215\",\n        },\n\"135.661.847\",\n\"5,4\",\n\"133.249,10\",\n\"19162,52\"],\n [{\n            'v': 21,\n            'f': \"21\",\n        },\n\"Santiago del Estero\",\n{\n            'v': 730.0,\n            'f': \"730.0\",\n        },\n{\n            'v': 213.0,\n            'f': \"213.0\",\n        },\n\"16.504.869\",\n\"3.0 \",\n\"136.934,30\",\n\"1545,387\"],\n [{\n            'v': 22,\n            'f': \"22\",\n        },\n\"Tucum\\u00e1n\",\n{\n            'v': 1.403,\n            'f': \"1.403\",\n        },\n{\n            'v': 403.0,\n            'f': \"403.0\",\n        },\n\"34.757.143\",\n\"6,3\",\n\"910.324,40\",\n\"953,715\"],\n [{\n            'v': 23,\n            'f': \"23\",\n        },\n\"Tierra del Fuego\",\n{\n            'v': 172.0,\n            'f': \"172.0\",\n        },\n{\n            'v': 60.0,\n            'f': \"60.0\",\n        },\n\"12.059.449\",\n\"110\",\n\"22.592,10\",\n\"382,966\"]],\n        columns: [[\"number\", \"index\"], [\"string\", \"PROVINCIa\"], [\"number\", \"poblaci\\u00f3n (miles)\"], [\"number\", \"hogares (miles)\"], [\"string\", \"ingresos laborales (miles pesos)\"], [\"string\", \"tasa de empleo (%)\"], [\"string\", \"superficie (km2)\"], [\"string\", \"exportaciones (mill usd)\"]],\n        columnOptions: [{\"width\": \"1px\", \"className\": \"index_column\"}],\n        rowsPerPage: 25,\n        helpUrl: \"https://colab.research.google.com/notebooks/data_table.ipynb\",\n        suppressOutputScrolling: true,\n        minimumWidth: undefined,\n      });\n      \n      function appendQuickchartButton(parentElement) {\n        let quickchartButtonContainerElement = document.createElement('div');\n        quickchartButtonContainerElement.innerHTML = `\n    <div id=\"df-74159290-c510-4299-9e6a-aed0f2be2990\">\n      <button class=\"colab-df-quickchart\" onclick=\"quickchart('df-74159290-c510-4299-9e6a-aed0f2be2990')\"\n              title=\"Suggest charts.\"\n              style=\"display:none;\">\n\n<svg xmlns=\"http://www.w3.org/2000/svg\" height=\"24px\"viewBox=\"0 0 24 24\"\n     width=\"24px\">\n    <g>\n        <path d=\"M19 3H5c-1.1 0-2 .9-2 2v14c0 1.1.9 2 2 2h14c1.1 0 2-.9 2-2V5c0-1.1-.9-2-2-2zM9 17H7v-7h2v7zm4 0h-2V7h2v10zm4 0h-2v-4h2v4z\"/>\n    </g>\n</svg>\n      </button>\n    </div>\n\n<style>\n  .colab-df-quickchart {\n    background-color: #E8F0FE;\n    border: none;\n    border-radius: 50%;\n    cursor: pointer;\n    display: none;\n    fill: #1967D2;\n    height: 32px;\n    padding: 0 0 0 0;\n    width: 32px;\n  }\n\n  .colab-df-quickchart:hover {\n    background-color: #E2EBFA;\n    box-shadow: 0px 1px 2px rgba(60, 64, 67, 0.3), 0px 1px 3px 1px rgba(60, 64, 67, 0.15);\n    fill: #174EA6;\n  }\n\n  [theme=dark] .colab-df-quickchart {\n    background-color: #3B4455;\n    fill: #D2E3FC;\n  }\n\n  [theme=dark] .colab-df-quickchart:hover {\n    background-color: #434B5C;\n    box-shadow: 0px 1px 3px 1px rgba(0, 0, 0, 0.15);\n    filter: drop-shadow(0px 1px 2px rgba(0, 0, 0, 0.3));\n    fill: #FFFFFF;\n  }\n</style>\n\n    <script>\n      async function quickchart(key) {\n        const containerElement = document.querySelector('#' + key);\n        const charts = await google.colab.kernel.invokeFunction(\n            'suggestCharts', [key], {});\n      }\n    </script>\n`;\n        parentElement.appendChild(quickchartButtonContainerElement);\n        \nfunction displayQuickchartButton(domScope) {\n  let quickchartButtonEl =\n    domScope.querySelector('#df-74159290-c510-4299-9e6a-aed0f2be2990 button.colab-df-quickchart');\n  quickchartButtonEl.style.display =\n    google.colab.kernel.accessAllowed ? 'block' : 'none';\n}\n\n        displayQuickchartButton(parentElement);\n      }\n\n      appendQuickchartButton(table);\n    ",
            "text/plain": [
              "<google.colab.data_table.DataTable object>"
            ]
          },
          "metadata": {},
          "execution_count": 3
        }
      ]
    },
    {
      "cell_type": "markdown",
      "source": [
        "Visualizamos mediante dtypes los tipos de datos que se encuentran en el DataFrame"
      ],
      "metadata": {
        "id": "uhKMIqcDhC_h"
      }
    },
    {
      "cell_type": "code",
      "source": [
        "prov.dtypes"
      ],
      "metadata": {
        "colab": {
          "base_uri": "https://localhost:8080/"
        },
        "id": "cln8ZiL3auTt",
        "outputId": "7ad6d467-8ac5-4927-af55-86b63bde0f1e"
      },
      "execution_count": 4,
      "outputs": [
        {
          "output_type": "execute_result",
          "data": {
            "text/plain": [
              "PROVINCIa                            object\n",
              "población (miles)                   float64\n",
              "hogares (miles)                     float64\n",
              "ingresos laborales (miles pesos)     object\n",
              "tasa de empleo (%)                   object\n",
              "superficie (km2)                     object\n",
              "exportaciones (mill usd)             object\n",
              "dtype: object"
            ]
          },
          "metadata": {},
          "execution_count": 4
        }
      ]
    },
    {
      "cell_type": "markdown",
      "source": [
        "Comenzaremos a realizar las tareas de limpieza, transformación y normalización de los datos de nuesto DataFrame"
      ],
      "metadata": {
        "id": "Y6PfqscBpDgV"
      }
    },
    {
      "cell_type": "markdown",
      "source": [
        "En primer lugar, veremos la cantidad de valores nulos que se encuentran en el DataFrame"
      ],
      "metadata": {
        "id": "1aTg6UIMpL1H"
      }
    },
    {
      "cell_type": "code",
      "source": [
        "prov.isna().sum()"
      ],
      "metadata": {
        "colab": {
          "base_uri": "https://localhost:8080/"
        },
        "id": "yxR-DFrdcmSi",
        "outputId": "e41791ac-30a2-4932-a41c-8bbf931e043c"
      },
      "execution_count": 5,
      "outputs": [
        {
          "output_type": "execute_result",
          "data": {
            "text/plain": [
              "PROVINCIa                           0\n",
              "población (miles)                   1\n",
              "hogares (miles)                     0\n",
              "ingresos laborales (miles pesos)    1\n",
              "tasa de empleo (%)                  0\n",
              "superficie (km2)                    0\n",
              "exportaciones (mill usd)            0\n",
              "dtype: int64"
            ]
          },
          "metadata": {},
          "execution_count": 5
        }
      ]
    },
    {
      "cell_type": "markdown",
      "source": [
        "Visualizando el DF nos podemos dar cuenta de la ubicacion de los mismos."
      ],
      "metadata": {
        "id": "5aS-NP_vwlvq"
      }
    },
    {
      "cell_type": "code",
      "source": [
        "prov.iloc[18,1]"
      ],
      "metadata": {
        "colab": {
          "base_uri": "https://localhost:8080/"
        },
        "id": "2GpWPVkloe34",
        "outputId": "467a0604-72c8-4db4-ffba-4bcff5c09a62"
      },
      "execution_count": 6,
      "outputs": [
        {
          "output_type": "execute_result",
          "data": {
            "text/plain": [
              "nan"
            ]
          },
          "metadata": {},
          "execution_count": 6
        }
      ]
    },
    {
      "cell_type": "code",
      "source": [
        "prov.iloc[15,3]"
      ],
      "metadata": {
        "colab": {
          "base_uri": "https://localhost:8080/"
        },
        "id": "-pfdBxi0wq9h",
        "outputId": "78941033-139b-46a3-8495-c5f7a4569efd"
      },
      "execution_count": 7,
      "outputs": [
        {
          "output_type": "execute_result",
          "data": {
            "text/plain": [
              "nan"
            ]
          },
          "metadata": {},
          "execution_count": 7
        }
      ]
    },
    {
      "cell_type": "markdown",
      "source": [
        "Vimos que en el DataFrame se utiliza el punto '.' como separador de miles, pero pandas entiende al punto como decimal."
      ],
      "metadata": {
        "id": "A5Vy1lKdnbxR"
      }
    },
    {
      "cell_type": "markdown",
      "source": [
        "Por lo tanto, lo que haremos ahora es modificar aquellas columnas que utilizan al punto como separador de miles.\n",
        "\n",
        "Observando el DF nos dimos cuenta que las columnas afectadas por lo nombrado anteriormente son:\n",
        "\n",
        "*   población (miles)\n",
        "*   hogares (miles)\n",
        "*   ingresos laborales (miles pesos)\n",
        "\n",
        "Lo que haremos a continuación, sera quitarle los puntos en sus campos.\n",
        "\n",
        "\n",
        "\n",
        "\n",
        "\n",
        "\n"
      ],
      "metadata": {
        "id": "8YH-vkcyqNv6"
      }
    },
    {
      "cell_type": "markdown",
      "source": [
        "En primer lugar modificaremos el tipo de datos de las columnas, pasandolas a String.\n",
        "\n",
        "Solo modificaremos las columnas población (miles) y hogares (miles) ya que son las unicas que no se encuentran en tipo de dato String (object en Pandas)"
      ],
      "metadata": {
        "id": "E_Lua331rJy7"
      }
    },
    {
      "cell_type": "code",
      "source": [
        "prov['población (miles)'] = prov['población (miles)'].astype(str)\n",
        "prov['hogares (miles)'] = prov['hogares (miles)'].astype(str)"
      ],
      "metadata": {
        "id": "uxzwa1JWirhz"
      },
      "execution_count": 8,
      "outputs": []
    },
    {
      "cell_type": "markdown",
      "source": [
        "Verificamos que se haya modificado el tipo de dato"
      ],
      "metadata": {
        "id": "sJDm06tMsEc3"
      }
    },
    {
      "cell_type": "code",
      "source": [
        "prov.dtypes"
      ],
      "metadata": {
        "colab": {
          "base_uri": "https://localhost:8080/"
        },
        "id": "xsm1bxBwsHNZ",
        "outputId": "8a0cad3a-cdc6-430d-f4fc-5074cfaeb735"
      },
      "execution_count": 9,
      "outputs": [
        {
          "output_type": "execute_result",
          "data": {
            "text/plain": [
              "PROVINCIa                           object\n",
              "población (miles)                   object\n",
              "hogares (miles)                     object\n",
              "ingresos laborales (miles pesos)    object\n",
              "tasa de empleo (%)                  object\n",
              "superficie (km2)                    object\n",
              "exportaciones (mill usd)            object\n",
              "dtype: object"
            ]
          },
          "metadata": {},
          "execution_count": 9
        }
      ]
    },
    {
      "cell_type": "markdown",
      "source": [
        "Utilizando la funcion `str.replace` reemplazamos los puntos '.' por espacios vacios, ya que no utilizaremos separadores para los numeros muy grandes."
      ],
      "metadata": {
        "id": "5vW3VwHBsW6n"
      }
    },
    {
      "cell_type": "code",
      "source": [
        "prov['población (miles)'] = prov['población (miles)'].str.replace('.' , '')\n",
        "prov['hogares (miles)'] = prov['hogares (miles)'].str.replace('.' , '')\n",
        "prov['ingresos laborales (miles pesos)'] = prov['ingresos laborales (miles pesos)'].str.replace('.' , '')"
      ],
      "metadata": {
        "colab": {
          "base_uri": "https://localhost:8080/"
        },
        "id": "KYjIHlVBrRUJ",
        "outputId": "4e98fc32-a812-4df1-a25a-75ae1321403c"
      },
      "execution_count": 10,
      "outputs": [
        {
          "output_type": "stream",
          "name": "stderr",
          "text": [
            "<ipython-input-10-3fb636009b89>:1: FutureWarning: The default value of regex will change from True to False in a future version. In addition, single character regular expressions will *not* be treated as literal strings when regex=True.\n",
            "  prov['población (miles)'] = prov['población (miles)'].str.replace('.' , '')\n",
            "<ipython-input-10-3fb636009b89>:2: FutureWarning: The default value of regex will change from True to False in a future version. In addition, single character regular expressions will *not* be treated as literal strings when regex=True.\n",
            "  prov['hogares (miles)'] = prov['hogares (miles)'].str.replace('.' , '')\n",
            "<ipython-input-10-3fb636009b89>:3: FutureWarning: The default value of regex will change from True to False in a future version. In addition, single character regular expressions will *not* be treated as literal strings when regex=True.\n",
            "  prov['ingresos laborales (miles pesos)'] = prov['ingresos laborales (miles pesos)'].str.replace('.' , '')\n"
          ]
        }
      ]
    },
    {
      "cell_type": "code",
      "source": [
        "prov.head()"
      ],
      "metadata": {
        "id": "J7SFp8K4mQeq",
        "colab": {
          "base_uri": "https://localhost:8080/",
          "height": 250
        },
        "outputId": "50db5955-3d77-454f-c098-95d39c048351"
      },
      "execution_count": 11,
      "outputs": [
        {
          "output_type": "execute_result",
          "data": {
            "text/plain": [
              "                         PROVINCIa población (miles) hogares (miles)  \\\n",
              "0  Ciudad Autónoma de Buenos Aires              3004            1263   \n",
              "1                     Buenos Aires             17292            5738   \n",
              "2                        Catamarca              3360            1020   \n",
              "3                            Chaco              3477            1251   \n",
              "4                           Chubut              9670            2870   \n",
              "\n",
              "  ingresos laborales (miles pesos) tasa de empleo (%) superficie (km2)  \\\n",
              "0                        211877384                4,7            205,9   \n",
              "1                        623250917                8,7       305.907,40   \n",
              "2                          8460986                7,3       101.486,10   \n",
              "3                        122790341                6,5        99.763,30   \n",
              "4                         24733558                5,3       224.302,30   \n",
              "\n",
              "  exportaciones (mill usd)  \n",
              "0                  311,163  \n",
              "1                33024,657  \n",
              "2                   201,03  \n",
              "3                  516,336  \n",
              "4                 2575,372  "
            ],
            "text/html": [
              "\n",
              "  <div id=\"df-02323412-c445-48dd-868b-169ef64a8cf2\">\n",
              "    <div class=\"colab-df-container\">\n",
              "      <div>\n",
              "<style scoped>\n",
              "    .dataframe tbody tr th:only-of-type {\n",
              "        vertical-align: middle;\n",
              "    }\n",
              "\n",
              "    .dataframe tbody tr th {\n",
              "        vertical-align: top;\n",
              "    }\n",
              "\n",
              "    .dataframe thead th {\n",
              "        text-align: right;\n",
              "    }\n",
              "</style>\n",
              "<table border=\"1\" class=\"dataframe\">\n",
              "  <thead>\n",
              "    <tr style=\"text-align: right;\">\n",
              "      <th></th>\n",
              "      <th>PROVINCIa</th>\n",
              "      <th>población (miles)</th>\n",
              "      <th>hogares (miles)</th>\n",
              "      <th>ingresos laborales (miles pesos)</th>\n",
              "      <th>tasa de empleo (%)</th>\n",
              "      <th>superficie (km2)</th>\n",
              "      <th>exportaciones (mill usd)</th>\n",
              "    </tr>\n",
              "  </thead>\n",
              "  <tbody>\n",
              "    <tr>\n",
              "      <th>0</th>\n",
              "      <td>Ciudad Autónoma de Buenos Aires</td>\n",
              "      <td>3004</td>\n",
              "      <td>1263</td>\n",
              "      <td>211877384</td>\n",
              "      <td>4,7</td>\n",
              "      <td>205,9</td>\n",
              "      <td>311,163</td>\n",
              "    </tr>\n",
              "    <tr>\n",
              "      <th>1</th>\n",
              "      <td>Buenos Aires</td>\n",
              "      <td>17292</td>\n",
              "      <td>5738</td>\n",
              "      <td>623250917</td>\n",
              "      <td>8,7</td>\n",
              "      <td>305.907,40</td>\n",
              "      <td>33024,657</td>\n",
              "    </tr>\n",
              "    <tr>\n",
              "      <th>2</th>\n",
              "      <td>Catamarca</td>\n",
              "      <td>3360</td>\n",
              "      <td>1020</td>\n",
              "      <td>8460986</td>\n",
              "      <td>7,3</td>\n",
              "      <td>101.486,10</td>\n",
              "      <td>201,03</td>\n",
              "    </tr>\n",
              "    <tr>\n",
              "      <th>3</th>\n",
              "      <td>Chaco</td>\n",
              "      <td>3477</td>\n",
              "      <td>1251</td>\n",
              "      <td>122790341</td>\n",
              "      <td>6,5</td>\n",
              "      <td>99.763,30</td>\n",
              "      <td>516,336</td>\n",
              "    </tr>\n",
              "    <tr>\n",
              "      <th>4</th>\n",
              "      <td>Chubut</td>\n",
              "      <td>9670</td>\n",
              "      <td>2870</td>\n",
              "      <td>24733558</td>\n",
              "      <td>5,3</td>\n",
              "      <td>224.302,30</td>\n",
              "      <td>2575,372</td>\n",
              "    </tr>\n",
              "  </tbody>\n",
              "</table>\n",
              "</div>\n",
              "      <button class=\"colab-df-convert\" onclick=\"convertToInteractive('df-02323412-c445-48dd-868b-169ef64a8cf2')\"\n",
              "              title=\"Convert this dataframe to an interactive table.\"\n",
              "              style=\"display:none;\">\n",
              "        \n",
              "  <svg xmlns=\"http://www.w3.org/2000/svg\" height=\"24px\"viewBox=\"0 0 24 24\"\n",
              "       width=\"24px\">\n",
              "    <path d=\"M0 0h24v24H0V0z\" fill=\"none\"/>\n",
              "    <path d=\"M18.56 5.44l.94 2.06.94-2.06 2.06-.94-2.06-.94-.94-2.06-.94 2.06-2.06.94zm-11 1L8.5 8.5l.94-2.06 2.06-.94-2.06-.94L8.5 2.5l-.94 2.06-2.06.94zm10 10l.94 2.06.94-2.06 2.06-.94-2.06-.94-.94-2.06-.94 2.06-2.06.94z\"/><path d=\"M17.41 7.96l-1.37-1.37c-.4-.4-.92-.59-1.43-.59-.52 0-1.04.2-1.43.59L10.3 9.45l-7.72 7.72c-.78.78-.78 2.05 0 2.83L4 21.41c.39.39.9.59 1.41.59.51 0 1.02-.2 1.41-.59l7.78-7.78 2.81-2.81c.8-.78.8-2.07 0-2.86zM5.41 20L4 18.59l7.72-7.72 1.47 1.35L5.41 20z\"/>\n",
              "  </svg>\n",
              "      </button>\n",
              "      \n",
              "  <style>\n",
              "    .colab-df-container {\n",
              "      display:flex;\n",
              "      flex-wrap:wrap;\n",
              "      gap: 12px;\n",
              "    }\n",
              "\n",
              "    .colab-df-convert {\n",
              "      background-color: #E8F0FE;\n",
              "      border: none;\n",
              "      border-radius: 50%;\n",
              "      cursor: pointer;\n",
              "      display: none;\n",
              "      fill: #1967D2;\n",
              "      height: 32px;\n",
              "      padding: 0 0 0 0;\n",
              "      width: 32px;\n",
              "    }\n",
              "\n",
              "    .colab-df-convert:hover {\n",
              "      background-color: #E2EBFA;\n",
              "      box-shadow: 0px 1px 2px rgba(60, 64, 67, 0.3), 0px 1px 3px 1px rgba(60, 64, 67, 0.15);\n",
              "      fill: #174EA6;\n",
              "    }\n",
              "\n",
              "    [theme=dark] .colab-df-convert {\n",
              "      background-color: #3B4455;\n",
              "      fill: #D2E3FC;\n",
              "    }\n",
              "\n",
              "    [theme=dark] .colab-df-convert:hover {\n",
              "      background-color: #434B5C;\n",
              "      box-shadow: 0px 1px 3px 1px rgba(0, 0, 0, 0.15);\n",
              "      filter: drop-shadow(0px 1px 2px rgba(0, 0, 0, 0.3));\n",
              "      fill: #FFFFFF;\n",
              "    }\n",
              "  </style>\n",
              "\n",
              "      <script>\n",
              "        const buttonEl =\n",
              "          document.querySelector('#df-02323412-c445-48dd-868b-169ef64a8cf2 button.colab-df-convert');\n",
              "        buttonEl.style.display =\n",
              "          google.colab.kernel.accessAllowed ? 'block' : 'none';\n",
              "\n",
              "        async function convertToInteractive(key) {\n",
              "          const element = document.querySelector('#df-02323412-c445-48dd-868b-169ef64a8cf2');\n",
              "          const dataTable =\n",
              "            await google.colab.kernel.invokeFunction('convertToInteractive',\n",
              "                                                     [key], {});\n",
              "          if (!dataTable) return;\n",
              "\n",
              "          const docLinkHtml = 'Like what you see? Visit the ' +\n",
              "            '<a target=\"_blank\" href=https://colab.research.google.com/notebooks/data_table.ipynb>data table notebook</a>'\n",
              "            + ' to learn more about interactive tables.';\n",
              "          element.innerHTML = '';\n",
              "          dataTable['output_type'] = 'display_data';\n",
              "          await google.colab.output.renderOutput(dataTable, element);\n",
              "          const docLink = document.createElement('div');\n",
              "          docLink.innerHTML = docLinkHtml;\n",
              "          element.appendChild(docLink);\n",
              "        }\n",
              "      </script>\n",
              "    </div>\n",
              "  </div>\n",
              "  "
            ]
          },
          "metadata": {},
          "execution_count": 11
        }
      ]
    },
    {
      "cell_type": "markdown",
      "source": [
        "Ahora, debemos solucionar los valores NaN.\n",
        "Nuestra idea para llenar estos campos es hacer una interpolación lineal.\n",
        "Para hacer esto, necesitamos pasar la columna nuevamente a tipo de dato numerico, pero Python nos arrojará un error por los datos NaN.\n",
        "Como solución, decidimos reemplazar los NaN por un numero arbitrario (elegimos el 0 ya que sabemos que ninguna casilla de nuestro df es 0) para poder pasar las columnas a tipo de dato numerico."
      ],
      "metadata": {
        "id": "37K1D-2auScQ"
      }
    },
    {
      "cell_type": "markdown",
      "source": [
        "Comenzaremos reemplazando los valores NaN por 0."
      ],
      "metadata": {
        "id": "FnGjx63ux9kQ"
      }
    },
    {
      "cell_type": "code",
      "source": [
        "prov.iloc[18,1] = '0'\n",
        "prov.iloc[15,3] = '0'"
      ],
      "metadata": {
        "id": "RH0xljciyEp2"
      },
      "execution_count": 12,
      "outputs": []
    },
    {
      "cell_type": "markdown",
      "source": [
        "Verificamos que se hayan modificado los valores."
      ],
      "metadata": {
        "id": "urwDOoeo1weQ"
      }
    },
    {
      "cell_type": "code",
      "source": [
        "prov.iloc[18,1]"
      ],
      "metadata": {
        "colab": {
          "base_uri": "https://localhost:8080/",
          "height": 36
        },
        "id": "lqh1rUNv1zb8",
        "outputId": "66c9190c-44fc-4b16-b51e-b26891d48364"
      },
      "execution_count": 13,
      "outputs": [
        {
          "output_type": "execute_result",
          "data": {
            "text/plain": [
              "'0'"
            ],
            "application/vnd.google.colaboratory.intrinsic+json": {
              "type": "string"
            }
          },
          "metadata": {},
          "execution_count": 13
        }
      ]
    },
    {
      "cell_type": "code",
      "source": [
        "prov.iloc[15,3]"
      ],
      "metadata": {
        "colab": {
          "base_uri": "https://localhost:8080/",
          "height": 36
        },
        "id": "8uyloTWo11VS",
        "outputId": "37ee89cb-6ac6-4203-940c-ddfdb0f7263f"
      },
      "execution_count": 14,
      "outputs": [
        {
          "output_type": "execute_result",
          "data": {
            "text/plain": [
              "'0'"
            ],
            "application/vnd.google.colaboratory.intrinsic+json": {
              "type": "string"
            }
          },
          "metadata": {},
          "execution_count": 14
        }
      ]
    },
    {
      "cell_type": "markdown",
      "source": [
        "Luego, pasamos las columnas a entero."
      ],
      "metadata": {
        "id": "TCTpd6Cnt6VW"
      }
    },
    {
      "cell_type": "code",
      "source": [
        "prov['población (miles)'] = prov['población (miles)'].astype(int)\n",
        "prov['hogares (miles)'] = prov['hogares (miles)'].astype(int)\n",
        "prov['ingresos laborales (miles pesos)'] = prov['ingresos laborales (miles pesos)'].astype(int)"
      ],
      "metadata": {
        "id": "Q7BsxTnLt9OB"
      },
      "execution_count": 15,
      "outputs": []
    },
    {
      "cell_type": "code",
      "source": [
        "prov.dtypes"
      ],
      "metadata": {
        "colab": {
          "base_uri": "https://localhost:8080/"
        },
        "id": "wV-G95H6ym93",
        "outputId": "1a0f96bf-3ced-4575-b8a1-39868712c476"
      },
      "execution_count": 16,
      "outputs": [
        {
          "output_type": "execute_result",
          "data": {
            "text/plain": [
              "PROVINCIa                           object\n",
              "población (miles)                    int64\n",
              "hogares (miles)                      int64\n",
              "ingresos laborales (miles pesos)     int64\n",
              "tasa de empleo (%)                  object\n",
              "superficie (km2)                    object\n",
              "exportaciones (mill usd)            object\n",
              "dtype: object"
            ]
          },
          "metadata": {},
          "execution_count": 16
        }
      ]
    },
    {
      "cell_type": "markdown",
      "source": [
        "Por ultimo, multiplicaremos 2 de las columnas nombradas anteriormente por 1000. Haremos esto ya que el nombre de cada una de ellas especifica que estan en miles y ademas cambiaremos los nombres de las columnas. Nosotros haciendo esto queremos que nos quede el numero final en nuestro DataFrame."
      ],
      "metadata": {
        "id": "61QRlYqys2Lb"
      }
    },
    {
      "cell_type": "code",
      "source": [
        "prov['población (miles)'] = prov['población (miles)'] * 1000\n",
        "prov['hogares (miles)'] = prov['hogares (miles)'] * 1000"
      ],
      "metadata": {
        "id": "E6J1g-pAtVhb"
      },
      "execution_count": 17,
      "outputs": []
    },
    {
      "cell_type": "markdown",
      "source": [
        "Ahora, haremos la interpolación lineal en los campos mencionados anteriormente."
      ],
      "metadata": {
        "id": "RJ9ASNQUywTU"
      }
    },
    {
      "cell_type": "code",
      "source": [
        "# Reemplazamos el valor cero por NaN para realizar la interpolación\n",
        "prov['población (miles)'] = prov['población (miles)'].replace(0, np.nan)\n",
        "prov['ingresos laborales (miles pesos)'] = prov['ingresos laborales (miles pesos)'].replace(0, np.nan)\n",
        "\n",
        "prov['población (miles)'] = prov['población (miles)'].interpolate()\n",
        "prov['ingresos laborales (miles pesos)'] = prov['ingresos laborales (miles pesos)'].interpolate()"
      ],
      "metadata": {
        "id": "MmE-_1dFzW20"
      },
      "execution_count": 18,
      "outputs": []
    },
    {
      "cell_type": "markdown",
      "source": [
        "Podemos notar que al aplicar la interpolación se nos modificó el tipo de dato, lo modificaremos nuevamente a entero."
      ],
      "metadata": {
        "id": "RzXu5s_J1Gr_"
      }
    },
    {
      "cell_type": "code",
      "source": [
        "prov['población (miles)'] = prov['población (miles)'].astype(int)\n",
        "prov['ingresos laborales (miles pesos)'] = prov['ingresos laborales (miles pesos)'].astype(int)"
      ],
      "metadata": {
        "id": "SjctT-krzhen"
      },
      "execution_count": 19,
      "outputs": []
    },
    {
      "cell_type": "markdown",
      "source": [
        "Por ulitmo, visualizaremos como quedaron los cambios."
      ],
      "metadata": {
        "id": "RLLfJQ6w1Zph"
      }
    },
    {
      "cell_type": "code",
      "source": [
        "DataTable(prov)"
      ],
      "metadata": {
        "colab": {
          "base_uri": "https://localhost:8080/",
          "height": 641
        },
        "id": "DXne2hbs1VYR",
        "outputId": "fc6046e3-9bd1-4eb7-a185-c5ca2ef73255"
      },
      "execution_count": 20,
      "outputs": [
        {
          "output_type": "execute_result",
          "data": {
            "text/html": [
              "<div>\n",
              "<style scoped>\n",
              "    .dataframe tbody tr th:only-of-type {\n",
              "        vertical-align: middle;\n",
              "    }\n",
              "\n",
              "    .dataframe tbody tr th {\n",
              "        vertical-align: top;\n",
              "    }\n",
              "\n",
              "    .dataframe thead th {\n",
              "        text-align: right;\n",
              "    }\n",
              "</style>\n",
              "<table border=\"1\" class=\"dataframe\">\n",
              "  <thead>\n",
              "    <tr style=\"text-align: right;\">\n",
              "      <th></th>\n",
              "      <th>PROVINCIa</th>\n",
              "      <th>población (miles)</th>\n",
              "      <th>hogares (miles)</th>\n",
              "      <th>ingresos laborales (miles pesos)</th>\n",
              "      <th>tasa de empleo (%)</th>\n",
              "      <th>superficie (km2)</th>\n",
              "      <th>exportaciones (mill usd)</th>\n",
              "    </tr>\n",
              "  </thead>\n",
              "  <tbody>\n",
              "    <tr>\n",
              "      <th>0</th>\n",
              "      <td>Ciudad Autónoma de Buenos Aires</td>\n",
              "      <td>3004000</td>\n",
              "      <td>1263000</td>\n",
              "      <td>211877384</td>\n",
              "      <td>4,7</td>\n",
              "      <td>205,9</td>\n",
              "      <td>311,163</td>\n",
              "    </tr>\n",
              "    <tr>\n",
              "      <th>1</th>\n",
              "      <td>Buenos Aires</td>\n",
              "      <td>17292000</td>\n",
              "      <td>5738000</td>\n",
              "      <td>623250917</td>\n",
              "      <td>8,7</td>\n",
              "      <td>305.907,40</td>\n",
              "      <td>33024,657</td>\n",
              "    </tr>\n",
              "    <tr>\n",
              "      <th>2</th>\n",
              "      <td>Catamarca</td>\n",
              "      <td>3360000</td>\n",
              "      <td>1020000</td>\n",
              "      <td>8460986</td>\n",
              "      <td>7,3</td>\n",
              "      <td>101.486,10</td>\n",
              "      <td>201,03</td>\n",
              "    </tr>\n",
              "    <tr>\n",
              "      <th>3</th>\n",
              "      <td>Chaco</td>\n",
              "      <td>3477000</td>\n",
              "      <td>1251000</td>\n",
              "      <td>122790341</td>\n",
              "      <td>6,5</td>\n",
              "      <td>99.763,30</td>\n",
              "      <td>516,336</td>\n",
              "    </tr>\n",
              "    <tr>\n",
              "      <th>4</th>\n",
              "      <td>Chubut</td>\n",
              "      <td>9670000</td>\n",
              "      <td>2870000</td>\n",
              "      <td>24733558</td>\n",
              "      <td>5,3</td>\n",
              "      <td>224.302,30</td>\n",
              "      <td>2575,372</td>\n",
              "    </tr>\n",
              "    <tr>\n",
              "      <th>5</th>\n",
              "      <td>Córdoba</td>\n",
              "      <td>1044000</td>\n",
              "      <td>3210000</td>\n",
              "      <td>22744468</td>\n",
              "      <td>2,6</td>\n",
              "      <td>164.707,80</td>\n",
              "      <td>12851,979</td>\n",
              "    </tr>\n",
              "    <tr>\n",
              "      <th>6</th>\n",
              "      <td>Corrientes</td>\n",
              "      <td>5910000</td>\n",
              "      <td>2050000</td>\n",
              "      <td>30606036</td>\n",
              "      <td>3,6</td>\n",
              "      <td>89.123,30</td>\n",
              "      <td>273,185</td>\n",
              "    </tr>\n",
              "    <tr>\n",
              "      <th>7</th>\n",
              "      <td>Entre Ríos</td>\n",
              "      <td>1252000</td>\n",
              "      <td>4310000</td>\n",
              "      <td>40510249</td>\n",
              "      <td>6,4</td>\n",
              "      <td>78.383,70</td>\n",
              "      <td>1911,902</td>\n",
              "    </tr>\n",
              "    <tr>\n",
              "      <th>8</th>\n",
              "      <td>Formosa</td>\n",
              "      <td>5090000</td>\n",
              "      <td>1480000</td>\n",
              "      <td>9586123</td>\n",
              "      <td>3,3</td>\n",
              "      <td>75.488,30</td>\n",
              "      <td>40,614</td>\n",
              "    </tr>\n",
              "    <tr>\n",
              "      <th>9</th>\n",
              "      <td>Jujuy</td>\n",
              "      <td>6960000</td>\n",
              "      <td>1970000</td>\n",
              "      <td>17044750</td>\n",
              "      <td>5,1</td>\n",
              "      <td>53.244,20</td>\n",
              "      <td>873,44</td>\n",
              "    </tr>\n",
              "    <tr>\n",
              "      <th>10</th>\n",
              "      <td>La Pampa</td>\n",
              "      <td>3170000</td>\n",
              "      <td>1160000</td>\n",
              "      <td>12180994</td>\n",
              "      <td>6,9</td>\n",
              "      <td>143.492,50</td>\n",
              "      <td>1205,864</td>\n",
              "    </tr>\n",
              "    <tr>\n",
              "      <th>11</th>\n",
              "      <td>La Rioja</td>\n",
              "      <td>3560000</td>\n",
              "      <td>1080000</td>\n",
              "      <td>8646574</td>\n",
              "      <td>4,5</td>\n",
              "      <td>91.493,70</td>\n",
              "      <td>186,786</td>\n",
              "    </tr>\n",
              "    <tr>\n",
              "      <th>12</th>\n",
              "      <td>Mendoza</td>\n",
              "      <td>1668000</td>\n",
              "      <td>5350000</td>\n",
              "      <td>51306457</td>\n",
              "      <td>6,2</td>\n",
              "      <td>149.069,20</td>\n",
              "      <td>1601,428</td>\n",
              "    </tr>\n",
              "    <tr>\n",
              "      <th>13</th>\n",
              "      <td>Misiones</td>\n",
              "      <td>1003000</td>\n",
              "      <td>3420000</td>\n",
              "      <td>29639104</td>\n",
              "      <td>3,3</td>\n",
              "      <td>29.911,40</td>\n",
              "      <td>438,241</td>\n",
              "    </tr>\n",
              "    <tr>\n",
              "      <th>14</th>\n",
              "      <td>Neuquén</td>\n",
              "      <td>6120000</td>\n",
              "      <td>2040000</td>\n",
              "      <td>28573541</td>\n",
              "      <td>5</td>\n",
              "      <td>94.422</td>\n",
              "      <td>2912,27</td>\n",
              "    </tr>\n",
              "    <tr>\n",
              "      <th>15</th>\n",
              "      <td>Río Negro</td>\n",
              "      <td>6870000</td>\n",
              "      <td>2600000</td>\n",
              "      <td>30910348</td>\n",
              "      <td>6</td>\n",
              "      <td>202.168,60</td>\n",
              "      <td>460,058</td>\n",
              "    </tr>\n",
              "    <tr>\n",
              "      <th>16</th>\n",
              "      <td>Salta</td>\n",
              "      <td>1307000</td>\n",
              "      <td>3550000</td>\n",
              "      <td>33247155</td>\n",
              "      <td>6,6</td>\n",
              "      <td>155.340,50</td>\n",
              "      <td>1326,821</td>\n",
              "    </tr>\n",
              "    <tr>\n",
              "      <th>17</th>\n",
              "      <td>San Juan</td>\n",
              "      <td>6990000</td>\n",
              "      <td>2020000</td>\n",
              "      <td>23036779</td>\n",
              "      <td>3,1</td>\n",
              "      <td>88.296,20</td>\n",
              "      <td>1162,933</td>\n",
              "    </tr>\n",
              "    <tr>\n",
              "      <th>18</th>\n",
              "      <td>San Luis</td>\n",
              "      <td>5390000</td>\n",
              "      <td>1480000</td>\n",
              "      <td>14056915</td>\n",
              "      <td>1,7</td>\n",
              "      <td>75.347,10</td>\n",
              "      <td>879,344</td>\n",
              "    </tr>\n",
              "    <tr>\n",
              "      <th>19</th>\n",
              "      <td>Santa Cruz</td>\n",
              "      <td>3790000</td>\n",
              "      <td>1330000</td>\n",
              "      <td>19517125</td>\n",
              "      <td>5,1</td>\n",
              "      <td>244.457,50</td>\n",
              "      <td>2242,114</td>\n",
              "    </tr>\n",
              "    <tr>\n",
              "      <th>20</th>\n",
              "      <td>Santa Fe</td>\n",
              "      <td>3311000</td>\n",
              "      <td>1215000</td>\n",
              "      <td>135661847</td>\n",
              "      <td>5,4</td>\n",
              "      <td>133.249,10</td>\n",
              "      <td>19162,52</td>\n",
              "    </tr>\n",
              "    <tr>\n",
              "      <th>21</th>\n",
              "      <td>Santiago del Estero</td>\n",
              "      <td>7300000</td>\n",
              "      <td>2130000</td>\n",
              "      <td>16504869</td>\n",
              "      <td>3.0</td>\n",
              "      <td>136.934,30</td>\n",
              "      <td>1545,387</td>\n",
              "    </tr>\n",
              "    <tr>\n",
              "      <th>22</th>\n",
              "      <td>Tucumán</td>\n",
              "      <td>1403000</td>\n",
              "      <td>4030000</td>\n",
              "      <td>34757143</td>\n",
              "      <td>6,3</td>\n",
              "      <td>910.324,40</td>\n",
              "      <td>953,715</td>\n",
              "    </tr>\n",
              "    <tr>\n",
              "      <th>23</th>\n",
              "      <td>Tierra del Fuego</td>\n",
              "      <td>1720000</td>\n",
              "      <td>600000</td>\n",
              "      <td>12059449</td>\n",
              "      <td>110</td>\n",
              "      <td>22.592,10</td>\n",
              "      <td>382,966</td>\n",
              "    </tr>\n",
              "  </tbody>\n",
              "</table>\n",
              "</div>"
            ],
            "application/vnd.google.colaboratory.module+javascript": "\n      import \"https://ssl.gstatic.com/colaboratory/data_table/881c4a0d49046431/data_table.js\";\n\n      const table = window.createDataTable({\n        data: [[{\n            'v': 0,\n            'f': \"0\",\n        },\n\"Ciudad Aut\\u00f3noma de Buenos Aires\",\n{\n            'v': 3004000,\n            'f': \"3004000\",\n        },\n{\n            'v': 1263000,\n            'f': \"1263000\",\n        },\n{\n            'v': 211877384,\n            'f': \"211877384\",\n        },\n\"4,7\",\n\"205,9\",\n\"311,163\"],\n [{\n            'v': 1,\n            'f': \"1\",\n        },\n\"Buenos Aires\",\n{\n            'v': 17292000,\n            'f': \"17292000\",\n        },\n{\n            'v': 5738000,\n            'f': \"5738000\",\n        },\n{\n            'v': 623250917,\n            'f': \"623250917\",\n        },\n\"8,7\",\n\"305.907,40\",\n\"33024,657\"],\n [{\n            'v': 2,\n            'f': \"2\",\n        },\n\"Catamarca\",\n{\n            'v': 3360000,\n            'f': \"3360000\",\n        },\n{\n            'v': 1020000,\n            'f': \"1020000\",\n        },\n{\n            'v': 8460986,\n            'f': \"8460986\",\n        },\n\"7,3\",\n\"101.486,10\",\n\"201,03\"],\n [{\n            'v': 3,\n            'f': \"3\",\n        },\n\"Chaco\",\n{\n            'v': 3477000,\n            'f': \"3477000\",\n        },\n{\n            'v': 1251000,\n            'f': \"1251000\",\n        },\n{\n            'v': 122790341,\n            'f': \"122790341\",\n        },\n\"6,5\",\n\"99.763,30\",\n\"516,336\"],\n [{\n            'v': 4,\n            'f': \"4\",\n        },\n\"Chubut\",\n{\n            'v': 9670000,\n            'f': \"9670000\",\n        },\n{\n            'v': 2870000,\n            'f': \"2870000\",\n        },\n{\n            'v': 24733558,\n            'f': \"24733558\",\n        },\n\"5,3\",\n\"224.302,30\",\n\"2575,372\"],\n [{\n            'v': 5,\n            'f': \"5\",\n        },\n\"C\\u00f3rdoba\",\n{\n            'v': 1044000,\n            'f': \"1044000\",\n        },\n{\n            'v': 3210000,\n            'f': \"3210000\",\n        },\n{\n            'v': 22744468,\n            'f': \"22744468\",\n        },\n\"2,6\",\n\"164.707,80\",\n\"12851,979\"],\n [{\n            'v': 6,\n            'f': \"6\",\n        },\n\"Corrientes\",\n{\n            'v': 5910000,\n            'f': \"5910000\",\n        },\n{\n            'v': 2050000,\n            'f': \"2050000\",\n        },\n{\n            'v': 30606036,\n            'f': \"30606036\",\n        },\n\"3,6\",\n\"89.123,30\",\n\"273,185\"],\n [{\n            'v': 7,\n            'f': \"7\",\n        },\n\"Entre R\\u00edos\",\n{\n            'v': 1252000,\n            'f': \"1252000\",\n        },\n{\n            'v': 4310000,\n            'f': \"4310000\",\n        },\n{\n            'v': 40510249,\n            'f': \"40510249\",\n        },\n\"6,4\",\n\"78.383,70\",\n\"1911,902\"],\n [{\n            'v': 8,\n            'f': \"8\",\n        },\n\"Formosa\",\n{\n            'v': 5090000,\n            'f': \"5090000\",\n        },\n{\n            'v': 1480000,\n            'f': \"1480000\",\n        },\n{\n            'v': 9586123,\n            'f': \"9586123\",\n        },\n\"3,3\",\n\"75.488,30\",\n\"40,614\"],\n [{\n            'v': 9,\n            'f': \"9\",\n        },\n\"Jujuy\",\n{\n            'v': 6960000,\n            'f': \"6960000\",\n        },\n{\n            'v': 1970000,\n            'f': \"1970000\",\n        },\n{\n            'v': 17044750,\n            'f': \"17044750\",\n        },\n\"5,1\",\n\"53.244,20\",\n\"873,44\"],\n [{\n            'v': 10,\n            'f': \"10\",\n        },\n\"La Pampa\",\n{\n            'v': 3170000,\n            'f': \"3170000\",\n        },\n{\n            'v': 1160000,\n            'f': \"1160000\",\n        },\n{\n            'v': 12180994,\n            'f': \"12180994\",\n        },\n\"6,9\",\n\"143.492,50\",\n\"1205,864\"],\n [{\n            'v': 11,\n            'f': \"11\",\n        },\n\"La Rioja\",\n{\n            'v': 3560000,\n            'f': \"3560000\",\n        },\n{\n            'v': 1080000,\n            'f': \"1080000\",\n        },\n{\n            'v': 8646574,\n            'f': \"8646574\",\n        },\n\"4,5\",\n\"91.493,70\",\n\"186,786\"],\n [{\n            'v': 12,\n            'f': \"12\",\n        },\n\"Mendoza\",\n{\n            'v': 1668000,\n            'f': \"1668000\",\n        },\n{\n            'v': 5350000,\n            'f': \"5350000\",\n        },\n{\n            'v': 51306457,\n            'f': \"51306457\",\n        },\n\"6,2\",\n\"149.069,20\",\n\"1601,428\"],\n [{\n            'v': 13,\n            'f': \"13\",\n        },\n\"Misiones\",\n{\n            'v': 1003000,\n            'f': \"1003000\",\n        },\n{\n            'v': 3420000,\n            'f': \"3420000\",\n        },\n{\n            'v': 29639104,\n            'f': \"29639104\",\n        },\n\"3,3\",\n\"29.911,40\",\n\"438,241\"],\n [{\n            'v': 14,\n            'f': \"14\",\n        },\n\"Neuqu\\u00e9n\",\n{\n            'v': 6120000,\n            'f': \"6120000\",\n        },\n{\n            'v': 2040000,\n            'f': \"2040000\",\n        },\n{\n            'v': 28573541,\n            'f': \"28573541\",\n        },\n\"5\",\n\"94.422\",\n\"2912,27\"],\n [{\n            'v': 15,\n            'f': \"15\",\n        },\n\"R\\u00edo Negro\",\n{\n            'v': 6870000,\n            'f': \"6870000\",\n        },\n{\n            'v': 2600000,\n            'f': \"2600000\",\n        },\n{\n            'v': 30910348,\n            'f': \"30910348\",\n        },\n\"6\",\n\"202.168,60\",\n\"460,058\"],\n [{\n            'v': 16,\n            'f': \"16\",\n        },\n\"Salta\",\n{\n            'v': 1307000,\n            'f': \"1307000\",\n        },\n{\n            'v': 3550000,\n            'f': \"3550000\",\n        },\n{\n            'v': 33247155,\n            'f': \"33247155\",\n        },\n\"6,6\",\n\"155.340,50\",\n\"1326,821\"],\n [{\n            'v': 17,\n            'f': \"17\",\n        },\n\"San Juan\",\n{\n            'v': 6990000,\n            'f': \"6990000\",\n        },\n{\n            'v': 2020000,\n            'f': \"2020000\",\n        },\n{\n            'v': 23036779,\n            'f': \"23036779\",\n        },\n\"3,1\",\n\"88.296,20\",\n\"1162,933\"],\n [{\n            'v': 18,\n            'f': \"18\",\n        },\n\"San Luis\",\n{\n            'v': 5390000,\n            'f': \"5390000\",\n        },\n{\n            'v': 1480000,\n            'f': \"1480000\",\n        },\n{\n            'v': 14056915,\n            'f': \"14056915\",\n        },\n\"1,7\",\n\"75.347,10\",\n\"879,344\"],\n [{\n            'v': 19,\n            'f': \"19\",\n        },\n\"Santa Cruz\",\n{\n            'v': 3790000,\n            'f': \"3790000\",\n        },\n{\n            'v': 1330000,\n            'f': \"1330000\",\n        },\n{\n            'v': 19517125,\n            'f': \"19517125\",\n        },\n\"5,1\",\n\"244.457,50\",\n\"2242,114\"],\n [{\n            'v': 20,\n            'f': \"20\",\n        },\n\"Santa Fe\",\n{\n            'v': 3311000,\n            'f': \"3311000\",\n        },\n{\n            'v': 1215000,\n            'f': \"1215000\",\n        },\n{\n            'v': 135661847,\n            'f': \"135661847\",\n        },\n\"5,4\",\n\"133.249,10\",\n\"19162,52\"],\n [{\n            'v': 21,\n            'f': \"21\",\n        },\n\"Santiago del Estero\",\n{\n            'v': 7300000,\n            'f': \"7300000\",\n        },\n{\n            'v': 2130000,\n            'f': \"2130000\",\n        },\n{\n            'v': 16504869,\n            'f': \"16504869\",\n        },\n\"3.0 \",\n\"136.934,30\",\n\"1545,387\"],\n [{\n            'v': 22,\n            'f': \"22\",\n        },\n\"Tucum\\u00e1n\",\n{\n            'v': 1403000,\n            'f': \"1403000\",\n        },\n{\n            'v': 4030000,\n            'f': \"4030000\",\n        },\n{\n            'v': 34757143,\n            'f': \"34757143\",\n        },\n\"6,3\",\n\"910.324,40\",\n\"953,715\"],\n [{\n            'v': 23,\n            'f': \"23\",\n        },\n\"Tierra del Fuego\",\n{\n            'v': 1720000,\n            'f': \"1720000\",\n        },\n{\n            'v': 600000,\n            'f': \"600000\",\n        },\n{\n            'v': 12059449,\n            'f': \"12059449\",\n        },\n\"110\",\n\"22.592,10\",\n\"382,966\"]],\n        columns: [[\"number\", \"index\"], [\"string\", \"PROVINCIa\"], [\"number\", \"poblaci\\u00f3n (miles)\"], [\"number\", \"hogares (miles)\"], [\"number\", \"ingresos laborales (miles pesos)\"], [\"string\", \"tasa de empleo (%)\"], [\"string\", \"superficie (km2)\"], [\"string\", \"exportaciones (mill usd)\"]],\n        columnOptions: [{\"width\": \"1px\", \"className\": \"index_column\"}],\n        rowsPerPage: 25,\n        helpUrl: \"https://colab.research.google.com/notebooks/data_table.ipynb\",\n        suppressOutputScrolling: true,\n        minimumWidth: undefined,\n      });\n      \n      function appendQuickchartButton(parentElement) {\n        let quickchartButtonContainerElement = document.createElement('div');\n        quickchartButtonContainerElement.innerHTML = `\n    <div id=\"df-91779f58-0749-40c0-afbd-4396a605997d\">\n      <button class=\"colab-df-quickchart\" onclick=\"quickchart('df-91779f58-0749-40c0-afbd-4396a605997d')\"\n              title=\"Suggest charts.\"\n              style=\"display:none;\">\n\n<svg xmlns=\"http://www.w3.org/2000/svg\" height=\"24px\"viewBox=\"0 0 24 24\"\n     width=\"24px\">\n    <g>\n        <path d=\"M19 3H5c-1.1 0-2 .9-2 2v14c0 1.1.9 2 2 2h14c1.1 0 2-.9 2-2V5c0-1.1-.9-2-2-2zM9 17H7v-7h2v7zm4 0h-2V7h2v10zm4 0h-2v-4h2v4z\"/>\n    </g>\n</svg>\n      </button>\n    </div>\n\n<style>\n  .colab-df-quickchart {\n    background-color: #E8F0FE;\n    border: none;\n    border-radius: 50%;\n    cursor: pointer;\n    display: none;\n    fill: #1967D2;\n    height: 32px;\n    padding: 0 0 0 0;\n    width: 32px;\n  }\n\n  .colab-df-quickchart:hover {\n    background-color: #E2EBFA;\n    box-shadow: 0px 1px 2px rgba(60, 64, 67, 0.3), 0px 1px 3px 1px rgba(60, 64, 67, 0.15);\n    fill: #174EA6;\n  }\n\n  [theme=dark] .colab-df-quickchart {\n    background-color: #3B4455;\n    fill: #D2E3FC;\n  }\n\n  [theme=dark] .colab-df-quickchart:hover {\n    background-color: #434B5C;\n    box-shadow: 0px 1px 3px 1px rgba(0, 0, 0, 0.15);\n    filter: drop-shadow(0px 1px 2px rgba(0, 0, 0, 0.3));\n    fill: #FFFFFF;\n  }\n</style>\n\n    <script>\n      async function quickchart(key) {\n        const containerElement = document.querySelector('#' + key);\n        const charts = await google.colab.kernel.invokeFunction(\n            'suggestCharts', [key], {});\n      }\n    </script>\n`;\n        parentElement.appendChild(quickchartButtonContainerElement);\n        \nfunction displayQuickchartButton(domScope) {\n  let quickchartButtonEl =\n    domScope.querySelector('#df-91779f58-0749-40c0-afbd-4396a605997d button.colab-df-quickchart');\n  quickchartButtonEl.style.display =\n    google.colab.kernel.accessAllowed ? 'block' : 'none';\n}\n\n        displayQuickchartButton(parentElement);\n      }\n\n      appendQuickchartButton(table);\n    ",
            "text/plain": [
              "<google.colab.data_table.DataTable object>"
            ]
          },
          "metadata": {},
          "execution_count": 20
        }
      ]
    },
    {
      "cell_type": "markdown",
      "source": [
        "A continuación, trabajaremos con las ultimas 3 columnas, las mismas son:\n",
        "\n",
        "\n",
        "*  tasa de empleo (%)\n",
        "*  superficie (km2)\n",
        "*  exportaciones (mill usd)\n",
        "\n",
        "A las que les realizaremos las siguientes modificaciones:\n",
        "\n",
        "A `tasa de empleo (%)` le reemplazaremos la ',' por el '.'\n",
        "\n",
        "A `superficie (km2)` le reemplazaremos el '.' por '' (espacio vacio) y la ',' por el '.'\n",
        "\n",
        "A `exportaciones (mill usd)` le reemplazaremos la ',' por el '.'\n",
        "\n",
        "En muchas ocasiones reemplzamos la coma (,) por el punto (.) esto se debe a que Pandas interpreta el punto como decimal. Y luego de relizar esto, pasamos el tipo de dato de la columna a numerico.\n",
        "\n"
      ],
      "metadata": {
        "id": "H-RV6aQw2geZ"
      }
    },
    {
      "cell_type": "code",
      "source": [
        "prov['tasa de empleo (%)'] = prov['tasa de empleo (%)'].str.replace(',' , '.')\n",
        "prov['tasa de empleo (%)'] = prov['tasa de empleo (%)'].astype(float)\n",
        "\n",
        "prov['superficie (km2)'] = prov['superficie (km2)'].str.replace('.' , '').str.replace(',' , '.')\n",
        "prov['superficie (km2)'] = prov['superficie (km2)'].astype(float)\n",
        "\n",
        "prov['exportaciones (mill usd)'] = prov['exportaciones (mill usd)'].str.replace(',' , '.')\n",
        "prov['exportaciones (mill usd)'] = prov['exportaciones (mill usd)'].astype(float)\n"
      ],
      "metadata": {
        "colab": {
          "base_uri": "https://localhost:8080/"
        },
        "id": "tuHT_SUs31gs",
        "outputId": "7981de7e-58ec-42b3-bdcd-643b869a2cdb"
      },
      "execution_count": 21,
      "outputs": [
        {
          "output_type": "stream",
          "name": "stderr",
          "text": [
            "<ipython-input-21-cd95f2779dbb>:4: FutureWarning: The default value of regex will change from True to False in a future version. In addition, single character regular expressions will *not* be treated as literal strings when regex=True.\n",
            "  prov['superficie (km2)'] = prov['superficie (km2)'].str.replace('.' , '').str.replace(',' , '.')\n"
          ]
        }
      ]
    },
    {
      "cell_type": "markdown",
      "source": [
        "Por ulitmo, modificamos el nombre de los encabezados de las columas ya que en el mismo especificaba que estaba en miles, y nosotros al multiplicarla por 1000 ya nos queda el numero final en las columnas.\n",
        "\n",
        "Además, modificamos los nombres para que esten todos en minuscula y  quitamos los parentesis y especios reemplazandolos por '_'\n",
        "\n",
        "Tambien, establecemos a la columna provincia como indice de nuestro DF."
      ],
      "metadata": {
        "id": "c70Rejxlk8Q1"
      }
    },
    {
      "cell_type": "code",
      "source": [
        "prov = prov.rename(columns={'población (miles)':'poblacion','hogares (miles)':'hogares'} )\n",
        "prov = prov.rename(str.lower, axis=\"columns\")\n",
        "\n",
        "prov.columns = prov.columns.str.replace(' ', '_').str.replace('(', '').str.replace(')','')\n",
        "prov.set_index('provincia', inplace=True)"
      ],
      "metadata": {
        "colab": {
          "base_uri": "https://localhost:8080/"
        },
        "id": "ZU7vaYHxbBVY",
        "outputId": "7293c1e1-e2ff-43fd-f5ee-ebb94bc4fa39"
      },
      "execution_count": 22,
      "outputs": [
        {
          "output_type": "stream",
          "name": "stderr",
          "text": [
            "<ipython-input-22-f881b791e123>:4: FutureWarning: The default value of regex will change from True to False in a future version. In addition, single character regular expressions will *not* be treated as literal strings when regex=True.\n",
            "  prov.columns = prov.columns.str.replace(' ', '_').str.replace('(', '').str.replace(')','')\n",
            "<ipython-input-22-f881b791e123>:4: FutureWarning: The default value of regex will change from True to False in a future version. In addition, single character regular expressions will *not* be treated as literal strings when regex=True.\n",
            "  prov.columns = prov.columns.str.replace(' ', '_').str.replace('(', '').str.replace(')','')\n"
          ]
        }
      ]
    },
    {
      "cell_type": "markdown",
      "source": [
        "Visualizamos los cambios"
      ],
      "metadata": {
        "id": "Or3lLrrF5eQW"
      }
    },
    {
      "cell_type": "code",
      "source": [
        "DataTable(prov)"
      ],
      "metadata": {
        "id": "coZvEJOh4SgS",
        "colab": {
          "base_uri": "https://localhost:8080/",
          "height": 641
        },
        "outputId": "e9eac8e6-fbbc-45ce-efd3-92d2bfae2258"
      },
      "execution_count": 23,
      "outputs": [
        {
          "output_type": "execute_result",
          "data": {
            "text/html": [
              "<div>\n",
              "<style scoped>\n",
              "    .dataframe tbody tr th:only-of-type {\n",
              "        vertical-align: middle;\n",
              "    }\n",
              "\n",
              "    .dataframe tbody tr th {\n",
              "        vertical-align: top;\n",
              "    }\n",
              "\n",
              "    .dataframe thead th {\n",
              "        text-align: right;\n",
              "    }\n",
              "</style>\n",
              "<table border=\"1\" class=\"dataframe\">\n",
              "  <thead>\n",
              "    <tr style=\"text-align: right;\">\n",
              "      <th></th>\n",
              "      <th>poblacion</th>\n",
              "      <th>hogares</th>\n",
              "      <th>ingresos_laborales_miles_pesos</th>\n",
              "      <th>tasa_de_empleo_%</th>\n",
              "      <th>superficie_km2</th>\n",
              "      <th>exportaciones_mill_usd</th>\n",
              "    </tr>\n",
              "    <tr>\n",
              "      <th>provincia</th>\n",
              "      <th></th>\n",
              "      <th></th>\n",
              "      <th></th>\n",
              "      <th></th>\n",
              "      <th></th>\n",
              "      <th></th>\n",
              "    </tr>\n",
              "  </thead>\n",
              "  <tbody>\n",
              "    <tr>\n",
              "      <th>Ciudad Autónoma de Buenos Aires</th>\n",
              "      <td>3004000</td>\n",
              "      <td>1263000</td>\n",
              "      <td>211877384</td>\n",
              "      <td>4.7</td>\n",
              "      <td>205.9</td>\n",
              "      <td>311.163</td>\n",
              "    </tr>\n",
              "    <tr>\n",
              "      <th>Buenos Aires</th>\n",
              "      <td>17292000</td>\n",
              "      <td>5738000</td>\n",
              "      <td>623250917</td>\n",
              "      <td>8.7</td>\n",
              "      <td>305907.4</td>\n",
              "      <td>33024.657</td>\n",
              "    </tr>\n",
              "    <tr>\n",
              "      <th>Catamarca</th>\n",
              "      <td>3360000</td>\n",
              "      <td>1020000</td>\n",
              "      <td>8460986</td>\n",
              "      <td>7.3</td>\n",
              "      <td>101486.1</td>\n",
              "      <td>201.030</td>\n",
              "    </tr>\n",
              "    <tr>\n",
              "      <th>Chaco</th>\n",
              "      <td>3477000</td>\n",
              "      <td>1251000</td>\n",
              "      <td>122790341</td>\n",
              "      <td>6.5</td>\n",
              "      <td>99763.3</td>\n",
              "      <td>516.336</td>\n",
              "    </tr>\n",
              "    <tr>\n",
              "      <th>Chubut</th>\n",
              "      <td>9670000</td>\n",
              "      <td>2870000</td>\n",
              "      <td>24733558</td>\n",
              "      <td>5.3</td>\n",
              "      <td>224302.3</td>\n",
              "      <td>2575.372</td>\n",
              "    </tr>\n",
              "    <tr>\n",
              "      <th>Córdoba</th>\n",
              "      <td>1044000</td>\n",
              "      <td>3210000</td>\n",
              "      <td>22744468</td>\n",
              "      <td>2.6</td>\n",
              "      <td>164707.8</td>\n",
              "      <td>12851.979</td>\n",
              "    </tr>\n",
              "    <tr>\n",
              "      <th>Corrientes</th>\n",
              "      <td>5910000</td>\n",
              "      <td>2050000</td>\n",
              "      <td>30606036</td>\n",
              "      <td>3.6</td>\n",
              "      <td>89123.3</td>\n",
              "      <td>273.185</td>\n",
              "    </tr>\n",
              "    <tr>\n",
              "      <th>Entre Ríos</th>\n",
              "      <td>1252000</td>\n",
              "      <td>4310000</td>\n",
              "      <td>40510249</td>\n",
              "      <td>6.4</td>\n",
              "      <td>78383.7</td>\n",
              "      <td>1911.902</td>\n",
              "    </tr>\n",
              "    <tr>\n",
              "      <th>Formosa</th>\n",
              "      <td>5090000</td>\n",
              "      <td>1480000</td>\n",
              "      <td>9586123</td>\n",
              "      <td>3.3</td>\n",
              "      <td>75488.3</td>\n",
              "      <td>40.614</td>\n",
              "    </tr>\n",
              "    <tr>\n",
              "      <th>Jujuy</th>\n",
              "      <td>6960000</td>\n",
              "      <td>1970000</td>\n",
              "      <td>17044750</td>\n",
              "      <td>5.1</td>\n",
              "      <td>53244.2</td>\n",
              "      <td>873.440</td>\n",
              "    </tr>\n",
              "    <tr>\n",
              "      <th>La Pampa</th>\n",
              "      <td>3170000</td>\n",
              "      <td>1160000</td>\n",
              "      <td>12180994</td>\n",
              "      <td>6.9</td>\n",
              "      <td>143492.5</td>\n",
              "      <td>1205.864</td>\n",
              "    </tr>\n",
              "    <tr>\n",
              "      <th>La Rioja</th>\n",
              "      <td>3560000</td>\n",
              "      <td>1080000</td>\n",
              "      <td>8646574</td>\n",
              "      <td>4.5</td>\n",
              "      <td>91493.7</td>\n",
              "      <td>186.786</td>\n",
              "    </tr>\n",
              "    <tr>\n",
              "      <th>Mendoza</th>\n",
              "      <td>1668000</td>\n",
              "      <td>5350000</td>\n",
              "      <td>51306457</td>\n",
              "      <td>6.2</td>\n",
              "      <td>149069.2</td>\n",
              "      <td>1601.428</td>\n",
              "    </tr>\n",
              "    <tr>\n",
              "      <th>Misiones</th>\n",
              "      <td>1003000</td>\n",
              "      <td>3420000</td>\n",
              "      <td>29639104</td>\n",
              "      <td>3.3</td>\n",
              "      <td>29911.4</td>\n",
              "      <td>438.241</td>\n",
              "    </tr>\n",
              "    <tr>\n",
              "      <th>Neuquén</th>\n",
              "      <td>6120000</td>\n",
              "      <td>2040000</td>\n",
              "      <td>28573541</td>\n",
              "      <td>5.0</td>\n",
              "      <td>94422.0</td>\n",
              "      <td>2912.270</td>\n",
              "    </tr>\n",
              "    <tr>\n",
              "      <th>Río Negro</th>\n",
              "      <td>6870000</td>\n",
              "      <td>2600000</td>\n",
              "      <td>30910348</td>\n",
              "      <td>6.0</td>\n",
              "      <td>202168.6</td>\n",
              "      <td>460.058</td>\n",
              "    </tr>\n",
              "    <tr>\n",
              "      <th>Salta</th>\n",
              "      <td>1307000</td>\n",
              "      <td>3550000</td>\n",
              "      <td>33247155</td>\n",
              "      <td>6.6</td>\n",
              "      <td>155340.5</td>\n",
              "      <td>1326.821</td>\n",
              "    </tr>\n",
              "    <tr>\n",
              "      <th>San Juan</th>\n",
              "      <td>6990000</td>\n",
              "      <td>2020000</td>\n",
              "      <td>23036779</td>\n",
              "      <td>3.1</td>\n",
              "      <td>88296.2</td>\n",
              "      <td>1162.933</td>\n",
              "    </tr>\n",
              "    <tr>\n",
              "      <th>San Luis</th>\n",
              "      <td>5390000</td>\n",
              "      <td>1480000</td>\n",
              "      <td>14056915</td>\n",
              "      <td>1.7</td>\n",
              "      <td>75347.1</td>\n",
              "      <td>879.344</td>\n",
              "    </tr>\n",
              "    <tr>\n",
              "      <th>Santa Cruz</th>\n",
              "      <td>3790000</td>\n",
              "      <td>1330000</td>\n",
              "      <td>19517125</td>\n",
              "      <td>5.1</td>\n",
              "      <td>244457.5</td>\n",
              "      <td>2242.114</td>\n",
              "    </tr>\n",
              "    <tr>\n",
              "      <th>Santa Fe</th>\n",
              "      <td>3311000</td>\n",
              "      <td>1215000</td>\n",
              "      <td>135661847</td>\n",
              "      <td>5.4</td>\n",
              "      <td>133249.1</td>\n",
              "      <td>19162.520</td>\n",
              "    </tr>\n",
              "    <tr>\n",
              "      <th>Santiago del Estero</th>\n",
              "      <td>7300000</td>\n",
              "      <td>2130000</td>\n",
              "      <td>16504869</td>\n",
              "      <td>3.0</td>\n",
              "      <td>136934.3</td>\n",
              "      <td>1545.387</td>\n",
              "    </tr>\n",
              "    <tr>\n",
              "      <th>Tucumán</th>\n",
              "      <td>1403000</td>\n",
              "      <td>4030000</td>\n",
              "      <td>34757143</td>\n",
              "      <td>6.3</td>\n",
              "      <td>910324.4</td>\n",
              "      <td>953.715</td>\n",
              "    </tr>\n",
              "    <tr>\n",
              "      <th>Tierra del Fuego</th>\n",
              "      <td>1720000</td>\n",
              "      <td>600000</td>\n",
              "      <td>12059449</td>\n",
              "      <td>110.0</td>\n",
              "      <td>22592.1</td>\n",
              "      <td>382.966</td>\n",
              "    </tr>\n",
              "  </tbody>\n",
              "</table>\n",
              "</div>"
            ],
            "application/vnd.google.colaboratory.module+javascript": "\n      import \"https://ssl.gstatic.com/colaboratory/data_table/881c4a0d49046431/data_table.js\";\n\n      const table = window.createDataTable({\n        data: [[\"Ciudad Aut\\u00f3noma de Buenos Aires\",\n{\n            'v': 3004000,\n            'f': \"3004000\",\n        },\n{\n            'v': 1263000,\n            'f': \"1263000\",\n        },\n{\n            'v': 211877384,\n            'f': \"211877384\",\n        },\n{\n            'v': 4.7,\n            'f': \"4.7\",\n        },\n{\n            'v': 205.9,\n            'f': \"205.9\",\n        },\n{\n            'v': 311.163,\n            'f': \"311.163\",\n        }],\n [\"Buenos Aires\",\n{\n            'v': 17292000,\n            'f': \"17292000\",\n        },\n{\n            'v': 5738000,\n            'f': \"5738000\",\n        },\n{\n            'v': 623250917,\n            'f': \"623250917\",\n        },\n{\n            'v': 8.7,\n            'f': \"8.7\",\n        },\n{\n            'v': 305907.4,\n            'f': \"305907.4\",\n        },\n{\n            'v': 33024.657,\n            'f': \"33024.657\",\n        }],\n [\"Catamarca\",\n{\n            'v': 3360000,\n            'f': \"3360000\",\n        },\n{\n            'v': 1020000,\n            'f': \"1020000\",\n        },\n{\n            'v': 8460986,\n            'f': \"8460986\",\n        },\n{\n            'v': 7.3,\n            'f': \"7.3\",\n        },\n{\n            'v': 101486.1,\n            'f': \"101486.1\",\n        },\n{\n            'v': 201.03,\n            'f': \"201.03\",\n        }],\n [\"Chaco\",\n{\n            'v': 3477000,\n            'f': \"3477000\",\n        },\n{\n            'v': 1251000,\n            'f': \"1251000\",\n        },\n{\n            'v': 122790341,\n            'f': \"122790341\",\n        },\n{\n            'v': 6.5,\n            'f': \"6.5\",\n        },\n{\n            'v': 99763.3,\n            'f': \"99763.3\",\n        },\n{\n            'v': 516.336,\n            'f': \"516.336\",\n        }],\n [\"Chubut\",\n{\n            'v': 9670000,\n            'f': \"9670000\",\n        },\n{\n            'v': 2870000,\n            'f': \"2870000\",\n        },\n{\n            'v': 24733558,\n            'f': \"24733558\",\n        },\n{\n            'v': 5.3,\n            'f': \"5.3\",\n        },\n{\n            'v': 224302.3,\n            'f': \"224302.3\",\n        },\n{\n            'v': 2575.372,\n            'f': \"2575.372\",\n        }],\n [\"C\\u00f3rdoba\",\n{\n            'v': 1044000,\n            'f': \"1044000\",\n        },\n{\n            'v': 3210000,\n            'f': \"3210000\",\n        },\n{\n            'v': 22744468,\n            'f': \"22744468\",\n        },\n{\n            'v': 2.6,\n            'f': \"2.6\",\n        },\n{\n            'v': 164707.8,\n            'f': \"164707.8\",\n        },\n{\n            'v': 12851.979,\n            'f': \"12851.979\",\n        }],\n [\"Corrientes\",\n{\n            'v': 5910000,\n            'f': \"5910000\",\n        },\n{\n            'v': 2050000,\n            'f': \"2050000\",\n        },\n{\n            'v': 30606036,\n            'f': \"30606036\",\n        },\n{\n            'v': 3.6,\n            'f': \"3.6\",\n        },\n{\n            'v': 89123.3,\n            'f': \"89123.3\",\n        },\n{\n            'v': 273.185,\n            'f': \"273.185\",\n        }],\n [\"Entre R\\u00edos\",\n{\n            'v': 1252000,\n            'f': \"1252000\",\n        },\n{\n            'v': 4310000,\n            'f': \"4310000\",\n        },\n{\n            'v': 40510249,\n            'f': \"40510249\",\n        },\n{\n            'v': 6.4,\n            'f': \"6.4\",\n        },\n{\n            'v': 78383.7,\n            'f': \"78383.7\",\n        },\n{\n            'v': 1911.902,\n            'f': \"1911.902\",\n        }],\n [\"Formosa\",\n{\n            'v': 5090000,\n            'f': \"5090000\",\n        },\n{\n            'v': 1480000,\n            'f': \"1480000\",\n        },\n{\n            'v': 9586123,\n            'f': \"9586123\",\n        },\n{\n            'v': 3.3,\n            'f': \"3.3\",\n        },\n{\n            'v': 75488.3,\n            'f': \"75488.3\",\n        },\n{\n            'v': 40.614,\n            'f': \"40.614\",\n        }],\n [\"Jujuy\",\n{\n            'v': 6960000,\n            'f': \"6960000\",\n        },\n{\n            'v': 1970000,\n            'f': \"1970000\",\n        },\n{\n            'v': 17044750,\n            'f': \"17044750\",\n        },\n{\n            'v': 5.1,\n            'f': \"5.1\",\n        },\n{\n            'v': 53244.2,\n            'f': \"53244.2\",\n        },\n{\n            'v': 873.44,\n            'f': \"873.44\",\n        }],\n [\"La Pampa\",\n{\n            'v': 3170000,\n            'f': \"3170000\",\n        },\n{\n            'v': 1160000,\n            'f': \"1160000\",\n        },\n{\n            'v': 12180994,\n            'f': \"12180994\",\n        },\n{\n            'v': 6.9,\n            'f': \"6.9\",\n        },\n{\n            'v': 143492.5,\n            'f': \"143492.5\",\n        },\n{\n            'v': 1205.864,\n            'f': \"1205.864\",\n        }],\n [\"La Rioja\",\n{\n            'v': 3560000,\n            'f': \"3560000\",\n        },\n{\n            'v': 1080000,\n            'f': \"1080000\",\n        },\n{\n            'v': 8646574,\n            'f': \"8646574\",\n        },\n{\n            'v': 4.5,\n            'f': \"4.5\",\n        },\n{\n            'v': 91493.7,\n            'f': \"91493.7\",\n        },\n{\n            'v': 186.786,\n            'f': \"186.786\",\n        }],\n [\"Mendoza\",\n{\n            'v': 1668000,\n            'f': \"1668000\",\n        },\n{\n            'v': 5350000,\n            'f': \"5350000\",\n        },\n{\n            'v': 51306457,\n            'f': \"51306457\",\n        },\n{\n            'v': 6.2,\n            'f': \"6.2\",\n        },\n{\n            'v': 149069.2,\n            'f': \"149069.2\",\n        },\n{\n            'v': 1601.428,\n            'f': \"1601.428\",\n        }],\n [\"Misiones\",\n{\n            'v': 1003000,\n            'f': \"1003000\",\n        },\n{\n            'v': 3420000,\n            'f': \"3420000\",\n        },\n{\n            'v': 29639104,\n            'f': \"29639104\",\n        },\n{\n            'v': 3.3,\n            'f': \"3.3\",\n        },\n{\n            'v': 29911.4,\n            'f': \"29911.4\",\n        },\n{\n            'v': 438.241,\n            'f': \"438.241\",\n        }],\n [\"Neuqu\\u00e9n\",\n{\n            'v': 6120000,\n            'f': \"6120000\",\n        },\n{\n            'v': 2040000,\n            'f': \"2040000\",\n        },\n{\n            'v': 28573541,\n            'f': \"28573541\",\n        },\n{\n            'v': 5.0,\n            'f': \"5.0\",\n        },\n{\n            'v': 94422.0,\n            'f': \"94422.0\",\n        },\n{\n            'v': 2912.27,\n            'f': \"2912.27\",\n        }],\n [\"R\\u00edo Negro\",\n{\n            'v': 6870000,\n            'f': \"6870000\",\n        },\n{\n            'v': 2600000,\n            'f': \"2600000\",\n        },\n{\n            'v': 30910348,\n            'f': \"30910348\",\n        },\n{\n            'v': 6.0,\n            'f': \"6.0\",\n        },\n{\n            'v': 202168.6,\n            'f': \"202168.6\",\n        },\n{\n            'v': 460.058,\n            'f': \"460.058\",\n        }],\n [\"Salta\",\n{\n            'v': 1307000,\n            'f': \"1307000\",\n        },\n{\n            'v': 3550000,\n            'f': \"3550000\",\n        },\n{\n            'v': 33247155,\n            'f': \"33247155\",\n        },\n{\n            'v': 6.6,\n            'f': \"6.6\",\n        },\n{\n            'v': 155340.5,\n            'f': \"155340.5\",\n        },\n{\n            'v': 1326.821,\n            'f': \"1326.821\",\n        }],\n [\"San Juan\",\n{\n            'v': 6990000,\n            'f': \"6990000\",\n        },\n{\n            'v': 2020000,\n            'f': \"2020000\",\n        },\n{\n            'v': 23036779,\n            'f': \"23036779\",\n        },\n{\n            'v': 3.1,\n            'f': \"3.1\",\n        },\n{\n            'v': 88296.2,\n            'f': \"88296.2\",\n        },\n{\n            'v': 1162.933,\n            'f': \"1162.933\",\n        }],\n [\"San Luis\",\n{\n            'v': 5390000,\n            'f': \"5390000\",\n        },\n{\n            'v': 1480000,\n            'f': \"1480000\",\n        },\n{\n            'v': 14056915,\n            'f': \"14056915\",\n        },\n{\n            'v': 1.7,\n            'f': \"1.7\",\n        },\n{\n            'v': 75347.1,\n            'f': \"75347.1\",\n        },\n{\n            'v': 879.344,\n            'f': \"879.344\",\n        }],\n [\"Santa Cruz\",\n{\n            'v': 3790000,\n            'f': \"3790000\",\n        },\n{\n            'v': 1330000,\n            'f': \"1330000\",\n        },\n{\n            'v': 19517125,\n            'f': \"19517125\",\n        },\n{\n            'v': 5.1,\n            'f': \"5.1\",\n        },\n{\n            'v': 244457.5,\n            'f': \"244457.5\",\n        },\n{\n            'v': 2242.114,\n            'f': \"2242.114\",\n        }],\n [\"Santa Fe\",\n{\n            'v': 3311000,\n            'f': \"3311000\",\n        },\n{\n            'v': 1215000,\n            'f': \"1215000\",\n        },\n{\n            'v': 135661847,\n            'f': \"135661847\",\n        },\n{\n            'v': 5.4,\n            'f': \"5.4\",\n        },\n{\n            'v': 133249.1,\n            'f': \"133249.1\",\n        },\n{\n            'v': 19162.52,\n            'f': \"19162.52\",\n        }],\n [\"Santiago del Estero\",\n{\n            'v': 7300000,\n            'f': \"7300000\",\n        },\n{\n            'v': 2130000,\n            'f': \"2130000\",\n        },\n{\n            'v': 16504869,\n            'f': \"16504869\",\n        },\n{\n            'v': 3.0,\n            'f': \"3.0\",\n        },\n{\n            'v': 136934.3,\n            'f': \"136934.3\",\n        },\n{\n            'v': 1545.387,\n            'f': \"1545.387\",\n        }],\n [\"Tucum\\u00e1n\",\n{\n            'v': 1403000,\n            'f': \"1403000\",\n        },\n{\n            'v': 4030000,\n            'f': \"4030000\",\n        },\n{\n            'v': 34757143,\n            'f': \"34757143\",\n        },\n{\n            'v': 6.3,\n            'f': \"6.3\",\n        },\n{\n            'v': 910324.4,\n            'f': \"910324.4\",\n        },\n{\n            'v': 953.715,\n            'f': \"953.715\",\n        }],\n [\"Tierra del Fuego\",\n{\n            'v': 1720000,\n            'f': \"1720000\",\n        },\n{\n            'v': 600000,\n            'f': \"600000\",\n        },\n{\n            'v': 12059449,\n            'f': \"12059449\",\n        },\n{\n            'v': 110.0,\n            'f': \"110.0\",\n        },\n{\n            'v': 22592.1,\n            'f': \"22592.1\",\n        },\n{\n            'v': 382.966,\n            'f': \"382.966\",\n        }]],\n        columns: [[\"string\", \"provincia\"], [\"number\", \"poblacion\"], [\"number\", \"hogares\"], [\"number\", \"ingresos_laborales_miles_pesos\"], [\"number\", \"tasa_de_empleo_%\"], [\"number\", \"superficie_km2\"], [\"number\", \"exportaciones_mill_usd\"]],\n        columnOptions: [{\"width\": \"1px\", \"className\": \"index_column\"}],\n        rowsPerPage: 25,\n        helpUrl: \"https://colab.research.google.com/notebooks/data_table.ipynb\",\n        suppressOutputScrolling: true,\n        minimumWidth: undefined,\n      });\n      \n      function appendQuickchartButton(parentElement) {\n        let quickchartButtonContainerElement = document.createElement('div');\n        quickchartButtonContainerElement.innerHTML = `\n    <div id=\"df-4faa8417-3236-4c0f-ba65-69ff09e28fff\">\n      <button class=\"colab-df-quickchart\" onclick=\"quickchart('df-4faa8417-3236-4c0f-ba65-69ff09e28fff')\"\n              title=\"Suggest charts.\"\n              style=\"display:none;\">\n\n<svg xmlns=\"http://www.w3.org/2000/svg\" height=\"24px\"viewBox=\"0 0 24 24\"\n     width=\"24px\">\n    <g>\n        <path d=\"M19 3H5c-1.1 0-2 .9-2 2v14c0 1.1.9 2 2 2h14c1.1 0 2-.9 2-2V5c0-1.1-.9-2-2-2zM9 17H7v-7h2v7zm4 0h-2V7h2v10zm4 0h-2v-4h2v4z\"/>\n    </g>\n</svg>\n      </button>\n    </div>\n\n<style>\n  .colab-df-quickchart {\n    background-color: #E8F0FE;\n    border: none;\n    border-radius: 50%;\n    cursor: pointer;\n    display: none;\n    fill: #1967D2;\n    height: 32px;\n    padding: 0 0 0 0;\n    width: 32px;\n  }\n\n  .colab-df-quickchart:hover {\n    background-color: #E2EBFA;\n    box-shadow: 0px 1px 2px rgba(60, 64, 67, 0.3), 0px 1px 3px 1px rgba(60, 64, 67, 0.15);\n    fill: #174EA6;\n  }\n\n  [theme=dark] .colab-df-quickchart {\n    background-color: #3B4455;\n    fill: #D2E3FC;\n  }\n\n  [theme=dark] .colab-df-quickchart:hover {\n    background-color: #434B5C;\n    box-shadow: 0px 1px 3px 1px rgba(0, 0, 0, 0.15);\n    filter: drop-shadow(0px 1px 2px rgba(0, 0, 0, 0.3));\n    fill: #FFFFFF;\n  }\n</style>\n\n    <script>\n      async function quickchart(key) {\n        const containerElement = document.querySelector('#' + key);\n        const charts = await google.colab.kernel.invokeFunction(\n            'suggestCharts', [key], {});\n      }\n    </script>\n`;\n        parentElement.appendChild(quickchartButtonContainerElement);\n        \nfunction displayQuickchartButton(domScope) {\n  let quickchartButtonEl =\n    domScope.querySelector('#df-4faa8417-3236-4c0f-ba65-69ff09e28fff button.colab-df-quickchart');\n  quickchartButtonEl.style.display =\n    google.colab.kernel.accessAllowed ? 'block' : 'none';\n}\n\n        displayQuickchartButton(parentElement);\n      }\n\n      appendQuickchartButton(table);\n    ",
            "text/plain": [
              "<google.colab.data_table.DataTable object>"
            ]
          },
          "metadata": {},
          "execution_count": 23
        }
      ]
    },
    {
      "cell_type": "markdown",
      "source": [
        "Una vez terminado el trabajo de curado de los datos. Trabajaremos con las variables, comenzaremos visualizando las mismas a través de distintos gráficos, para poder comprender su comportamiento y estudiarlas.\n",
        "Tambien asi podremos visualizar si los datos tienen sentido y si hay algun dato llamativo o erroneo."
      ],
      "metadata": {
        "id": "JRSgiSn3wjuu"
      }
    },
    {
      "cell_type": "markdown",
      "source": [
        "Comenzaremos visualizando la variable `poblacion`. Lo haremos a traves de un Boxplot.\n",
        "\n",
        "Usaremos la libreria `matplotlib.pyplot`"
      ],
      "metadata": {
        "id": "r57TZk6w2iaT"
      }
    },
    {
      "cell_type": "code",
      "source": [
        "plt.boxplot(prov['poblacion'])\n",
        "plt.xticks([1], ['población'])\n",
        "plt.ylabel('Numero de habitantes')\n",
        "plt.ticklabel_format(style='plain', axis='y')\n",
        "plt.title('Poblaciones de las provincias de Argentina')\n",
        "\n",
        "plt.show()"
      ],
      "metadata": {
        "id": "m_exI2uH2ZOJ",
        "colab": {
          "base_uri": "https://localhost:8080/",
          "height": 453
        },
        "outputId": "f6fa9d11-fcb0-49f5-c8c8-7b75130d5940"
      },
      "execution_count": 24,
      "outputs": [
        {
          "output_type": "display_data",
          "data": {
            "text/plain": [
              "<Figure size 640x480 with 1 Axes>"
            ],
            "image/png": "[encoded data removed]"
          },
          "metadata": {}
        }
      ]
    },
    {
      "cell_type": "markdown",
      "source": [
        "**Aclaración:**\n",
        "Cada vez que hagamos referencia a población, nos estamos refiriendo a la población de alguna de las porvincias de Argentina.\n",
        "\n",
        "Mediante este grafico de caja y bigotes, podemos observar bastantes datos interesantes de la poblacion, algunos de ellos son:\n",
        "\n",
        "*   La población **mínima** está por debajo de los 2 millones de habitantes.\n",
        "*   La población **máxima** (sin contar el valor atípico) es de aproximadamente 10\n",
        "millones de habitantes.\n",
        "*   **El 25%** de las poblaciones tienen menos de aproximadamente 2 millones de habitantes.\n",
        "*   **El 75%** de las poblaciones tienen menos de aproximadamente 10 millones de habitantes.\n",
        "*   Hay un solo **valor atipico** que es una población de aproximadamente 17 millones de habitantes.\n",
        "\n",
        "\n",
        "El valor atípico que mencionamos anteriormente, no lo consideraremos como tal. Esto se debe, a que ese valor es de **Buenos Aires** y es un dato correcto. Solo que hay mucha diferencia entre la población de Buenos Aires con el resto de las provincias.\n",
        "\n",
        "\n",
        "\n",
        "\n",
        "\n",
        "\n"
      ],
      "metadata": {
        "id": "Agf6vjdv20Ly"
      }
    },
    {
      "cell_type": "markdown",
      "source": [
        "Verificamos que el valor atípico es el de **Buenos Aires**"
      ],
      "metadata": {
        "id": "Uf9WAdQ1j5V9"
      }
    },
    {
      "cell_type": "code",
      "source": [
        "prov.loc['Buenos Aires' , 'poblacion']"
      ],
      "metadata": {
        "colab": {
          "base_uri": "https://localhost:8080/"
        },
        "id": "vc8CKNX1jlqq",
        "outputId": "340f0229-aef7-4fa2-a827-b2b0f9753d6b"
      },
      "execution_count": 25,
      "outputs": [
        {
          "output_type": "execute_result",
          "data": {
            "text/plain": [
              "17292000"
            ]
          },
          "metadata": {},
          "execution_count": 25
        }
      ]
    },
    {
      "cell_type": "markdown",
      "source": [
        "Visualizamos la variable `hogares`. Lo haremos a través de un grafico de violin.\n",
        "\n",
        "Usaremos la libreria `matplotlib.pyplot`"
      ],
      "metadata": {
        "id": "I9gFk0Wh60EF"
      }
    },
    {
      "cell_type": "code",
      "source": [
        "plt.violinplot(prov['hogares'])\n",
        "plt.title('Diagrama de Violines de la Distribución de Hogares por Provincia')\n",
        "plt.ylabel('Cantidad de hogares en millones')\n",
        "plt.show()\n",
        "\n",
        "\n",
        "plt.show()"
      ],
      "metadata": {
        "colab": {
          "base_uri": "https://localhost:8080/",
          "height": 468
        },
        "id": "1hlmV5tXI-HL",
        "outputId": "48ebfaf0-55ad-4bee-8aee-f21f688fbf7e"
      },
      "execution_count": 26,
      "outputs": [
        {
          "output_type": "display_data",
          "data": {
            "text/plain": [
              "<Figure size 640x480 with 1 Axes>"
            ],
            "image/png": "[encoded data removed]"
          },
          "metadata": {}
        }
      ]
    },
    {
      "cell_type": "markdown",
      "source": [
        "Mediante este grafico de violin, podemos observar bastantes datos interesantes de la población, algunos de ellos son:\n",
        "\n",
        "*   La cantidad de hogares mínima está por debajo del millon de hogares.\n",
        "*   La cantidad de hogares máxima es de aproximadamente 7 millones de hogares.\n",
        "*   La mayoria de las provincias tiene aproximadamente una cantidad de hogares entre 1 mill y 3 millones.\n"
      ],
      "metadata": {
        "id": "uV4f5hO4JXCZ"
      }
    },
    {
      "cell_type": "markdown",
      "source": [
        "Visualizamos la variable `ingresos_laborales_miles_pesos`. Lo haremos a traves de un grafico de dispersion.\n",
        "\n",
        "Usaremos la libreria `seaborn`"
      ],
      "metadata": {
        "id": "Xxx5M56G817r"
      }
    },
    {
      "cell_type": "code",
      "source": [
        "sns.stripplot(x = prov['ingresos_laborales_miles_pesos'], data = prov)"
      ],
      "metadata": {
        "colab": {
          "base_uri": "https://localhost:8080/",
          "height": 468
        },
        "id": "myBbpyxg8qJq",
        "outputId": "945d96ce-e2b7-4571-b013-677e9b01df57"
      },
      "execution_count": 27,
      "outputs": [
        {
          "output_type": "execute_result",
          "data": {
            "text/plain": [
              "<Axes: xlabel='ingresos_laborales_miles_pesos'>"
            ]
          },
          "metadata": {},
          "execution_count": 27
        },
        {
          "output_type": "display_data",
          "data": {
            "text/plain": [
              "<Figure size 640x480 with 1 Axes>"
            ],
            "image/png": "[encoded data removed]"
          },
          "metadata": {}
        }
      ]
    },
    {
      "cell_type": "markdown",
      "source": [
        "Si bien las etiquetas del eje x no son exactas, este grafico nos permite vizualisar de manera simple la distribucion de la variable.\n",
        "\n",
        "Podemos observar con este grafico que la mayoria de provincias tiene un ingreso laboral similar, exepto 4 provincias que son las que sacan mas diferencia, 3 de esas 4 estan dentro de un rango considerable, y la otra es un valor atipico.\n",
        "\n",
        "Como en el estudio de la población , el valor atípico que mencionamos anteriormente, no lo consideraremos como tal. Esto se debe, a que ese valor es de **Buenos Aires** y es un dato correcto."
      ],
      "metadata": {
        "id": "3kr22KuW97p6"
      }
    },
    {
      "cell_type": "markdown",
      "source": [
        "Verificamos que el valor atípico es el de Buenos Aires"
      ],
      "metadata": {
        "id": "_VaSPkxUk62n"
      }
    },
    {
      "cell_type": "code",
      "source": [
        "prov.loc['Buenos Aires' , 'ingresos_laborales_miles_pesos']"
      ],
      "metadata": {
        "colab": {
          "base_uri": "https://localhost:8080/"
        },
        "id": "nb_ijMTak7ZF",
        "outputId": "cfa45c03-1c89-4b6f-f8ce-f7145ebb5f95"
      },
      "execution_count": 28,
      "outputs": [
        {
          "output_type": "execute_result",
          "data": {
            "text/plain": [
              "623250917"
            ]
          },
          "metadata": {},
          "execution_count": 28
        }
      ]
    },
    {
      "cell_type": "markdown",
      "source": [
        "Visualizamos la variable `tasa_de_empleo_%`. Lo haremos a traves de un grafico de puntos.\n",
        "\n",
        "Usaremos la libreria `matplotlib.pyplot`"
      ],
      "metadata": {
        "id": "oors4f7M_dLK"
      }
    },
    {
      "cell_type": "code",
      "source": [
        "#Ordenamos los valores\n",
        "prov_sorted = prov.sort_values('tasa_de_empleo_%', ascending=False)\n",
        "\n",
        "plt.figure(figsize=(12, 8))\n",
        "plt.scatter(prov_sorted['tasa_de_empleo_%'], prov_sorted.index, color='blue', marker='o', alpha=0.5)\n",
        "\n",
        "plt.xlabel('Porcentaje')\n",
        "plt.ylabel('Provincia')\n",
        "plt.title('Porcentaje por tasa de empleo en cada provincia')\n",
        "\n",
        "plt.show()"
      ],
      "metadata": {
        "colab": {
          "base_uri": "https://localhost:8080/",
          "height": 718
        },
        "id": "ORp6rt6Ofa2H",
        "outputId": "6f3ffbdd-25d3-4e36-db04-bc0bec17b7c8"
      },
      "execution_count": 29,
      "outputs": [
        {
          "output_type": "display_data",
          "data": {
            "text/plain": [
              "<Figure size 1200x800 with 1 Axes>"
            ],
            "image/png": "[encoded data removed]"
          },
          "metadata": {}
        }
      ]
    },
    {
      "cell_type": "markdown",
      "source": [
        "Claramente podemos observar que el dato de la tasa de empleo de Tierra del Fuego es erroneo. Esto puede ser debido a un error de tipeo o una confusion. Al ser un dato del que podemos saber la informacion correcta, investigamos y basandonos en informacion encontrada en la web www.tierradelfuego.gob.ar concluimos que la tasa de empleo es de 4.7 y la reemplazamos en nuestro df."
      ],
      "metadata": {
        "id": "Jbu5NKKXrq3G"
      }
    },
    {
      "cell_type": "code",
      "source": [
        "prov.loc[\"Tierra del Fuego\" , \"tasa_de_empleo_%\"]  = 4.7"
      ],
      "metadata": {
        "id": "sY36JJlMrtBv"
      },
      "execution_count": 30,
      "outputs": []
    },
    {
      "cell_type": "code",
      "source": [
        "#Ordenamos los valores nuevamente ya que corregimos el valor erroneo.\n",
        "prov_sorted = prov.sort_values('tasa_de_empleo_%', ascending=False)\n",
        "\n",
        "plt.figure(figsize=(12, 8))\n",
        "plt.scatter(prov_sorted['tasa_de_empleo_%'], prov_sorted.index, color='blue', marker='o', alpha=0.5)\n",
        "\n",
        "plt.xlabel('Porcentaje')\n",
        "plt.ylabel('Provincia')\n",
        "plt.title('Porcentaje por tasa de empleo en cada provincia')\n",
        "\n",
        "plt.show()"
      ],
      "metadata": {
        "colab": {
          "base_uri": "https://localhost:8080/",
          "height": 718
        },
        "id": "O6ZbeV2xsCK7",
        "outputId": "54eb6296-4f5d-438a-befc-095933185965"
      },
      "execution_count": 31,
      "outputs": [
        {
          "output_type": "display_data",
          "data": {
            "text/plain": [
              "<Figure size 1200x800 with 1 Axes>"
            ],
            "image/png": "[encoded data removed]"
          },
          "metadata": {}
        }
      ]
    },
    {
      "cell_type": "markdown",
      "source": [
        "Ahora si, podemos observar que varia bastante la tasa de empleo entre las provincias. La provincia con tasa de empleo mas alta es **Buenos Aires** y la provincia con tasa de empleo mas baja es **San Luis**."
      ],
      "metadata": {
        "id": "E06Xvo29_5h8"
      }
    },
    {
      "cell_type": "markdown",
      "source": [
        "Visualizamos la variable `superficie_km2`. Lo haremos a traves de un grafico de dispersion.\n",
        "\n",
        "Usaremos la libreria `matplotlib.pyplot`"
      ],
      "metadata": {
        "id": "z4TV93GJAcef"
      }
    },
    {
      "cell_type": "code",
      "source": [
        "#Ordenamos los valores.\n",
        "prov_sorted = prov.sort_values('superficie_km2', ascending=False)\n",
        "\n",
        "plt.bar(prov_sorted.index, prov_sorted['superficie_km2'])\n",
        "plt.xlabel('Provincia')\n",
        "plt.ylabel('Superficie')\n",
        "plt.title('Superficie de cada provincia en km2')\n",
        "plt.xticks(rotation=90)\n",
        "plt.show()"
      ],
      "metadata": {
        "id": "ENx1G99X206o",
        "colab": {
          "base_uri": "https://localhost:8080/",
          "height": 699
        },
        "outputId": "5cd5ced6-95e3-47a8-94ae-94b9f0c1276e"
      },
      "execution_count": 32,
      "outputs": [
        {
          "output_type": "display_data",
          "data": {
            "text/plain": [
              "<Figure size 640x480 with 1 Axes>"
            ],
            "image/png": "[encoded data removed]"
          },
          "metadata": {}
        }
      ]
    },
    {
      "cell_type": "markdown",
      "source": [
        "Claramente podemos observar que el dato de la superficie de Tucuman es erroneo. Esto puede ser debido a un error de tipeo o una confusión. Al ser un dato del que podemos saber la informacion correcta, investigamos y basandonos en https://www.argentina.gob.ar/tucuman concluimos que la superficie es de 22.524 km² y la reemplazamos en nuestro dataframe."
      ],
      "metadata": {
        "id": "oLraMgYS_rjw"
      }
    },
    {
      "cell_type": "code",
      "source": [
        "prov.loc['Tucumán','superficie_km2'] = 22524"
      ],
      "metadata": {
        "id": "H0vJv1e8sKPK"
      },
      "execution_count": 33,
      "outputs": []
    },
    {
      "cell_type": "code",
      "source": [
        "#Ordenamos los valores nuevamente ya que corregimos el valor erroneo.\n",
        "prov_sorted = prov.sort_values('superficie_km2', ascending=False)\n",
        "\n",
        "plt.bar(prov_sorted.index, prov_sorted['superficie_km2'])\n",
        "plt.xlabel('Provincia')\n",
        "plt.ylabel('Superficie')\n",
        "plt.title('Superficie de cada provincia en km2')\n",
        "plt.xticks(rotation=90)\n",
        "plt.show()"
      ],
      "metadata": {
        "id": "hNZ_n3l4209R",
        "colab": {
          "base_uri": "https://localhost:8080/",
          "height": 699
        },
        "outputId": "90d6ccef-b2be-4ac7-d2b1-fdcc17a0f0be"
      },
      "execution_count": 34,
      "outputs": [
        {
          "output_type": "display_data",
          "data": {
            "text/plain": [
              "<Figure size 640x480 with 1 Axes>"
            ],
            "image/png": "[encoded data removed]"
          },
          "metadata": {}
        }
      ]
    },
    {
      "cell_type": "markdown",
      "source": [
        "Ahora si, podemos observar que varia bastante la superfice entre las provincias. La provincia con mayor superfice por bastante diferencia es **Buenos Aires** y la de menor superficie la tiene la **Ciudad Autónoma de Buenos Aires**\n",
        "\n"
      ],
      "metadata": {
        "id": "Qt2J7Uf7BF6S"
      }
    },
    {
      "cell_type": "markdown",
      "source": [
        "Ahora bien, una vez concluido el análisis de cada variable procederemos a investigar la relación que hay entre cada una de ellas."
      ],
      "metadata": {
        "id": "G7DKjqdsBbZ2"
      }
    },
    {
      "cell_type": "markdown",
      "source": [
        "Comenzaremos haciendo la matriz de covarianza, la misma nos indicará si hay una relación entre las variables."
      ],
      "metadata": {
        "id": "dzNp0V-4wxZU"
      }
    },
    {
      "cell_type": "code",
      "source": [
        "prov_cov = prov.cov()"
      ],
      "metadata": {
        "id": "TT1LZNvtwTtP"
      },
      "execution_count": 35,
      "outputs": []
    },
    {
      "cell_type": "code",
      "source": [
        "prov_cov"
      ],
      "metadata": {
        "id": "EW4Ea2JK12VE",
        "colab": {
          "base_uri": "https://localhost:8080/",
          "height": 237
        },
        "outputId": "c591b668-185a-4d63-dfe7-bb57d400aa2b"
      },
      "execution_count": 36,
      "outputs": [
        {
          "output_type": "execute_result",
          "data": {
            "text/plain": [
              "                                   poblacion       hogares  \\\n",
              "poblacion                       1.308446e+13  1.100918e+12   \n",
              "hogares                         1.100918e+12  1.971975e+12   \n",
              "ingresos_laborales_miles_pesos  2.998063e+14  7.877574e+13   \n",
              "tasa_de_empleo_%                1.164772e+06  8.358980e+05   \n",
              "superficie_km2                  1.548664e+11  3.803419e+10   \n",
              "exportaciones_mill_usd          1.522433e+10  4.497178e+09   \n",
              "\n",
              "                                ingresos_laborales_miles_pesos  \\\n",
              "poblacion                                         2.998063e+14   \n",
              "hogares                                           7.877574e+13   \n",
              "ingresos_laborales_miles_pesos                    1.646526e+16   \n",
              "tasa_de_empleo_%                                  1.044500e+08   \n",
              "superficie_km2                                    4.089476e+12   \n",
              "exportaciones_mill_usd                            8.046001e+11   \n",
              "\n",
              "                                tasa_de_empleo_%  superficie_km2  \\\n",
              "poblacion                           1.164772e+06    1.548664e+11   \n",
              "hogares                             8.358980e+05    3.803419e+10   \n",
              "ingresos_laborales_miles_pesos      1.044500e+08    4.089476e+12   \n",
              "tasa_de_empleo_%                    2.874764e+00    4.842307e+04   \n",
              "superficie_km2                      4.842307e+04    5.573281e+09   \n",
              "exportaciones_mill_usd              4.244776e+03    3.274733e+08   \n",
              "\n",
              "                                exportaciones_mill_usd  \n",
              "poblacion                                 1.522433e+10  \n",
              "hogares                                   4.497178e+09  \n",
              "ingresos_laborales_miles_pesos            8.046001e+11  \n",
              "tasa_de_empleo_%                          4.244776e+03  \n",
              "superficie_km2                            3.274733e+08  \n",
              "exportaciones_mill_usd                    5.844194e+07  "
            ],
            "text/html": [
              "\n",
              "  <div id=\"df-e7eac102-2da6-49b7-bcf9-0bc6ad334443\">\n",
              "    <div class=\"colab-df-container\">\n",
              "      <div>\n",
              "<style scoped>\n",
              "    .dataframe tbody tr th:only-of-type {\n",
              "        vertical-align: middle;\n",
              "    }\n",
              "\n",
              "    .dataframe tbody tr th {\n",
              "        vertical-align: top;\n",
              "    }\n",
              "\n",
              "    .dataframe thead th {\n",
              "        text-align: right;\n",
              "    }\n",
              "</style>\n",
              "<table border=\"1\" class=\"dataframe\">\n",
              "  <thead>\n",
              "    <tr style=\"text-align: right;\">\n",
              "      <th></th>\n",
              "      <th>poblacion</th>\n",
              "      <th>hogares</th>\n",
              "      <th>ingresos_laborales_miles_pesos</th>\n",
              "      <th>tasa_de_empleo_%</th>\n",
              "      <th>superficie_km2</th>\n",
              "      <th>exportaciones_mill_usd</th>\n",
              "    </tr>\n",
              "  </thead>\n",
              "  <tbody>\n",
              "    <tr>\n",
              "      <th>poblacion</th>\n",
              "      <td>1.308446e+13</td>\n",
              "      <td>1.100918e+12</td>\n",
              "      <td>2.998063e+14</td>\n",
              "      <td>1.164772e+06</td>\n",
              "      <td>1.548664e+11</td>\n",
              "      <td>1.522433e+10</td>\n",
              "    </tr>\n",
              "    <tr>\n",
              "      <th>hogares</th>\n",
              "      <td>1.100918e+12</td>\n",
              "      <td>1.971975e+12</td>\n",
              "      <td>7.877574e+13</td>\n",
              "      <td>8.358980e+05</td>\n",
              "      <td>3.803419e+10</td>\n",
              "      <td>4.497178e+09</td>\n",
              "    </tr>\n",
              "    <tr>\n",
              "      <th>ingresos_laborales_miles_pesos</th>\n",
              "      <td>2.998063e+14</td>\n",
              "      <td>7.877574e+13</td>\n",
              "      <td>1.646526e+16</td>\n",
              "      <td>1.044500e+08</td>\n",
              "      <td>4.089476e+12</td>\n",
              "      <td>8.046001e+11</td>\n",
              "    </tr>\n",
              "    <tr>\n",
              "      <th>tasa_de_empleo_%</th>\n",
              "      <td>1.164772e+06</td>\n",
              "      <td>8.358980e+05</td>\n",
              "      <td>1.044500e+08</td>\n",
              "      <td>2.874764e+00</td>\n",
              "      <td>4.842307e+04</td>\n",
              "      <td>4.244776e+03</td>\n",
              "    </tr>\n",
              "    <tr>\n",
              "      <th>superficie_km2</th>\n",
              "      <td>1.548664e+11</td>\n",
              "      <td>3.803419e+10</td>\n",
              "      <td>4.089476e+12</td>\n",
              "      <td>4.842307e+04</td>\n",
              "      <td>5.573281e+09</td>\n",
              "      <td>3.274733e+08</td>\n",
              "    </tr>\n",
              "    <tr>\n",
              "      <th>exportaciones_mill_usd</th>\n",
              "      <td>1.522433e+10</td>\n",
              "      <td>4.497178e+09</td>\n",
              "      <td>8.046001e+11</td>\n",
              "      <td>4.244776e+03</td>\n",
              "      <td>3.274733e+08</td>\n",
              "      <td>5.844194e+07</td>\n",
              "    </tr>\n",
              "  </tbody>\n",
              "</table>\n",
              "</div>\n",
              "      <button class=\"colab-df-convert\" onclick=\"convertToInteractive('df-e7eac102-2da6-49b7-bcf9-0bc6ad334443')\"\n",
              "              title=\"Convert this dataframe to an interactive table.\"\n",
              "              style=\"display:none;\">\n",
              "        \n",
              "  <svg xmlns=\"http://www.w3.org/2000/svg\" height=\"24px\"viewBox=\"0 0 24 24\"\n",
              "       width=\"24px\">\n",
              "    <path d=\"M0 0h24v24H0V0z\" fill=\"none\"/>\n",
              "    <path d=\"M18.56 5.44l.94 2.06.94-2.06 2.06-.94-2.06-.94-.94-2.06-.94 2.06-2.06.94zm-11 1L8.5 8.5l.94-2.06 2.06-.94-2.06-.94L8.5 2.5l-.94 2.06-2.06.94zm10 10l.94 2.06.94-2.06 2.06-.94-2.06-.94-.94-2.06-.94 2.06-2.06.94z\"/><path d=\"M17.41 7.96l-1.37-1.37c-.4-.4-.92-.59-1.43-.59-.52 0-1.04.2-1.43.59L10.3 9.45l-7.72 7.72c-.78.78-.78 2.05 0 2.83L4 21.41c.39.39.9.59 1.41.59.51 0 1.02-.2 1.41-.59l7.78-7.78 2.81-2.81c.8-.78.8-2.07 0-2.86zM5.41 20L4 18.59l7.72-7.72 1.47 1.35L5.41 20z\"/>\n",
              "  </svg>\n",
              "      </button>\n",
              "      \n",
              "  <style>\n",
              "    .colab-df-container {\n",
              "      display:flex;\n",
              "      flex-wrap:wrap;\n",
              "      gap: 12px;\n",
              "    }\n",
              "\n",
              "    .colab-df-convert {\n",
              "      background-color: #E8F0FE;\n",
              "      border: none;\n",
              "      border-radius: 50%;\n",
              "      cursor: pointer;\n",
              "      display: none;\n",
              "      fill: #1967D2;\n",
              "      height: 32px;\n",
              "      padding: 0 0 0 0;\n",
              "      width: 32px;\n",
              "    }\n",
              "\n",
              "    .colab-df-convert:hover {\n",
              "      background-color: #E2EBFA;\n",
              "      box-shadow: 0px 1px 2px rgba(60, 64, 67, 0.3), 0px 1px 3px 1px rgba(60, 64, 67, 0.15);\n",
              "      fill: #174EA6;\n",
              "    }\n",
              "\n",
              "    [theme=dark] .colab-df-convert {\n",
              "      background-color: #3B4455;\n",
              "      fill: #D2E3FC;\n",
              "    }\n",
              "\n",
              "    [theme=dark] .colab-df-convert:hover {\n",
              "      background-color: #434B5C;\n",
              "      box-shadow: 0px 1px 3px 1px rgba(0, 0, 0, 0.15);\n",
              "      filter: drop-shadow(0px 1px 2px rgba(0, 0, 0, 0.3));\n",
              "      fill: #FFFFFF;\n",
              "    }\n",
              "  </style>\n",
              "\n",
              "      <script>\n",
              "        const buttonEl =\n",
              "          document.querySelector('#df-e7eac102-2da6-49b7-bcf9-0bc6ad334443 button.colab-df-convert');\n",
              "        buttonEl.style.display =\n",
              "          google.colab.kernel.accessAllowed ? 'block' : 'none';\n",
              "\n",
              "        async function convertToInteractive(key) {\n",
              "          const element = document.querySelector('#df-e7eac102-2da6-49b7-bcf9-0bc6ad334443');\n",
              "          const dataTable =\n",
              "            await google.colab.kernel.invokeFunction('convertToInteractive',\n",
              "                                                     [key], {});\n",
              "          if (!dataTable) return;\n",
              "\n",
              "          const docLinkHtml = 'Like what you see? Visit the ' +\n",
              "            '<a target=\"_blank\" href=https://colab.research.google.com/notebooks/data_table.ipynb>data table notebook</a>'\n",
              "            + ' to learn more about interactive tables.';\n",
              "          element.innerHTML = '';\n",
              "          dataTable['output_type'] = 'display_data';\n",
              "          await google.colab.output.renderOutput(dataTable, element);\n",
              "          const docLink = document.createElement('div');\n",
              "          docLink.innerHTML = docLinkHtml;\n",
              "          element.appendChild(docLink);\n",
              "        }\n",
              "      </script>\n",
              "    </div>\n",
              "  </div>\n",
              "  "
            ]
          },
          "metadata": {},
          "execution_count": 36
        }
      ]
    },
    {
      "cell_type": "markdown",
      "source": [
        "Observando la matriz podemos notar algunas relaciones lineales entre las variables.\n",
        "\n",
        "Por ejemplo, podemos notar hay una relacion fuerte y positiva entre las variables `ingresos_laborales_miles_pesos` y `hogares` ."
      ],
      "metadata": {
        "id": "uq6V1SsS2Xa5"
      }
    },
    {
      "cell_type": "markdown",
      "source": [
        "Ahora, haremos la matriz de correlación."
      ],
      "metadata": {
        "id": "ojkjYRFLySh7"
      }
    },
    {
      "cell_type": "code",
      "source": [
        "prov_corr = prov.corr()"
      ],
      "metadata": {
        "id": "0mhi5np4yUdm"
      },
      "execution_count": 37,
      "outputs": []
    },
    {
      "cell_type": "code",
      "source": [
        "prov_corr"
      ],
      "metadata": {
        "id": "Gknr3J6B-IyS",
        "colab": {
          "base_uri": "https://localhost:8080/",
          "height": 237
        },
        "outputId": "6e81aa13-f6f2-4934-fdc0-f7aa6ebf8083"
      },
      "execution_count": 38,
      "outputs": [
        {
          "output_type": "execute_result",
          "data": {
            "text/plain": [
              "                                poblacion   hogares  \\\n",
              "poblacion                        1.000000  0.216734   \n",
              "hogares                          0.216734  1.000000   \n",
              "ingresos_laborales_miles_pesos   0.645920  0.437177   \n",
              "tasa_de_empleo_%                 0.189916  0.351076   \n",
              "superficie_km2                   0.573487  0.362801   \n",
              "exportaciones_mill_usd           0.550552  0.418916   \n",
              "\n",
              "                                ingresos_laborales_miles_pesos  \\\n",
              "poblacion                                             0.645920   \n",
              "hogares                                               0.437177   \n",
              "ingresos_laborales_miles_pesos                        1.000000   \n",
              "tasa_de_empleo_%                                      0.480090   \n",
              "superficie_km2                                        0.426902   \n",
              "exportaciones_mill_usd                                0.820226   \n",
              "\n",
              "                                tasa_de_empleo_%  superficie_km2  \\\n",
              "poblacion                               0.189916        0.573487   \n",
              "hogares                                 0.351076        0.362801   \n",
              "ingresos_laborales_miles_pesos          0.480090        0.426902   \n",
              "tasa_de_empleo_%                        1.000000        0.382557   \n",
              "superficie_km2                          0.382557        1.000000   \n",
              "exportaciones_mill_usd                  0.327485        0.573797   \n",
              "\n",
              "                                exportaciones_mill_usd  \n",
              "poblacion                                     0.550552  \n",
              "hogares                                       0.418916  \n",
              "ingresos_laborales_miles_pesos                0.820226  \n",
              "tasa_de_empleo_%                              0.327485  \n",
              "superficie_km2                                0.573797  \n",
              "exportaciones_mill_usd                        1.000000  "
            ],
            "text/html": [
              "\n",
              "  <div id=\"df-9d7ea816-88fb-49de-8596-b25d12c02e97\">\n",
              "    <div class=\"colab-df-container\">\n",
              "      <div>\n",
              "<style scoped>\n",
              "    .dataframe tbody tr th:only-of-type {\n",
              "        vertical-align: middle;\n",
              "    }\n",
              "\n",
              "    .dataframe tbody tr th {\n",
              "        vertical-align: top;\n",
              "    }\n",
              "\n",
              "    .dataframe thead th {\n",
              "        text-align: right;\n",
              "    }\n",
              "</style>\n",
              "<table border=\"1\" class=\"dataframe\">\n",
              "  <thead>\n",
              "    <tr style=\"text-align: right;\">\n",
              "      <th></th>\n",
              "      <th>poblacion</th>\n",
              "      <th>hogares</th>\n",
              "      <th>ingresos_laborales_miles_pesos</th>\n",
              "      <th>tasa_de_empleo_%</th>\n",
              "      <th>superficie_km2</th>\n",
              "      <th>exportaciones_mill_usd</th>\n",
              "    </tr>\n",
              "  </thead>\n",
              "  <tbody>\n",
              "    <tr>\n",
              "      <th>poblacion</th>\n",
              "      <td>1.000000</td>\n",
              "      <td>0.216734</td>\n",
              "      <td>0.645920</td>\n",
              "      <td>0.189916</td>\n",
              "      <td>0.573487</td>\n",
              "      <td>0.550552</td>\n",
              "    </tr>\n",
              "    <tr>\n",
              "      <th>hogares</th>\n",
              "      <td>0.216734</td>\n",
              "      <td>1.000000</td>\n",
              "      <td>0.437177</td>\n",
              "      <td>0.351076</td>\n",
              "      <td>0.362801</td>\n",
              "      <td>0.418916</td>\n",
              "    </tr>\n",
              "    <tr>\n",
              "      <th>ingresos_laborales_miles_pesos</th>\n",
              "      <td>0.645920</td>\n",
              "      <td>0.437177</td>\n",
              "      <td>1.000000</td>\n",
              "      <td>0.480090</td>\n",
              "      <td>0.426902</td>\n",
              "      <td>0.820226</td>\n",
              "    </tr>\n",
              "    <tr>\n",
              "      <th>tasa_de_empleo_%</th>\n",
              "      <td>0.189916</td>\n",
              "      <td>0.351076</td>\n",
              "      <td>0.480090</td>\n",
              "      <td>1.000000</td>\n",
              "      <td>0.382557</td>\n",
              "      <td>0.327485</td>\n",
              "    </tr>\n",
              "    <tr>\n",
              "      <th>superficie_km2</th>\n",
              "      <td>0.573487</td>\n",
              "      <td>0.362801</td>\n",
              "      <td>0.426902</td>\n",
              "      <td>0.382557</td>\n",
              "      <td>1.000000</td>\n",
              "      <td>0.573797</td>\n",
              "    </tr>\n",
              "    <tr>\n",
              "      <th>exportaciones_mill_usd</th>\n",
              "      <td>0.550552</td>\n",
              "      <td>0.418916</td>\n",
              "      <td>0.820226</td>\n",
              "      <td>0.327485</td>\n",
              "      <td>0.573797</td>\n",
              "      <td>1.000000</td>\n",
              "    </tr>\n",
              "  </tbody>\n",
              "</table>\n",
              "</div>\n",
              "      <button class=\"colab-df-convert\" onclick=\"convertToInteractive('df-9d7ea816-88fb-49de-8596-b25d12c02e97')\"\n",
              "              title=\"Convert this dataframe to an interactive table.\"\n",
              "              style=\"display:none;\">\n",
              "        \n",
              "  <svg xmlns=\"http://www.w3.org/2000/svg\" height=\"24px\"viewBox=\"0 0 24 24\"\n",
              "       width=\"24px\">\n",
              "    <path d=\"M0 0h24v24H0V0z\" fill=\"none\"/>\n",
              "    <path d=\"M18.56 5.44l.94 2.06.94-2.06 2.06-.94-2.06-.94-.94-2.06-.94 2.06-2.06.94zm-11 1L8.5 8.5l.94-2.06 2.06-.94-2.06-.94L8.5 2.5l-.94 2.06-2.06.94zm10 10l.94 2.06.94-2.06 2.06-.94-2.06-.94-.94-2.06-.94 2.06-2.06.94z\"/><path d=\"M17.41 7.96l-1.37-1.37c-.4-.4-.92-.59-1.43-.59-.52 0-1.04.2-1.43.59L10.3 9.45l-7.72 7.72c-.78.78-.78 2.05 0 2.83L4 21.41c.39.39.9.59 1.41.59.51 0 1.02-.2 1.41-.59l7.78-7.78 2.81-2.81c.8-.78.8-2.07 0-2.86zM5.41 20L4 18.59l7.72-7.72 1.47 1.35L5.41 20z\"/>\n",
              "  </svg>\n",
              "      </button>\n",
              "      \n",
              "  <style>\n",
              "    .colab-df-container {\n",
              "      display:flex;\n",
              "      flex-wrap:wrap;\n",
              "      gap: 12px;\n",
              "    }\n",
              "\n",
              "    .colab-df-convert {\n",
              "      background-color: #E8F0FE;\n",
              "      border: none;\n",
              "      border-radius: 50%;\n",
              "      cursor: pointer;\n",
              "      display: none;\n",
              "      fill: #1967D2;\n",
              "      height: 32px;\n",
              "      padding: 0 0 0 0;\n",
              "      width: 32px;\n",
              "    }\n",
              "\n",
              "    .colab-df-convert:hover {\n",
              "      background-color: #E2EBFA;\n",
              "      box-shadow: 0px 1px 2px rgba(60, 64, 67, 0.3), 0px 1px 3px 1px rgba(60, 64, 67, 0.15);\n",
              "      fill: #174EA6;\n",
              "    }\n",
              "\n",
              "    [theme=dark] .colab-df-convert {\n",
              "      background-color: #3B4455;\n",
              "      fill: #D2E3FC;\n",
              "    }\n",
              "\n",
              "    [theme=dark] .colab-df-convert:hover {\n",
              "      background-color: #434B5C;\n",
              "      box-shadow: 0px 1px 3px 1px rgba(0, 0, 0, 0.15);\n",
              "      filter: drop-shadow(0px 1px 2px rgba(0, 0, 0, 0.3));\n",
              "      fill: #FFFFFF;\n",
              "    }\n",
              "  </style>\n",
              "\n",
              "      <script>\n",
              "        const buttonEl =\n",
              "          document.querySelector('#df-9d7ea816-88fb-49de-8596-b25d12c02e97 button.colab-df-convert');\n",
              "        buttonEl.style.display =\n",
              "          google.colab.kernel.accessAllowed ? 'block' : 'none';\n",
              "\n",
              "        async function convertToInteractive(key) {\n",
              "          const element = document.querySelector('#df-9d7ea816-88fb-49de-8596-b25d12c02e97');\n",
              "          const dataTable =\n",
              "            await google.colab.kernel.invokeFunction('convertToInteractive',\n",
              "                                                     [key], {});\n",
              "          if (!dataTable) return;\n",
              "\n",
              "          const docLinkHtml = 'Like what you see? Visit the ' +\n",
              "            '<a target=\"_blank\" href=https://colab.research.google.com/notebooks/data_table.ipynb>data table notebook</a>'\n",
              "            + ' to learn more about interactive tables.';\n",
              "          element.innerHTML = '';\n",
              "          dataTable['output_type'] = 'display_data';\n",
              "          await google.colab.output.renderOutput(dataTable, element);\n",
              "          const docLink = document.createElement('div');\n",
              "          docLink.innerHTML = docLinkHtml;\n",
              "          element.appendChild(docLink);\n",
              "        }\n",
              "      </script>\n",
              "    </div>\n",
              "  </div>\n",
              "  "
            ]
          },
          "metadata": {},
          "execution_count": 38
        }
      ]
    },
    {
      "cell_type": "markdown",
      "source": [
        "Observando la matriz podemos notar mas detalladamente algunas relaciones.\n",
        "\n",
        "Volviendo al ejemplo mencionado anteriormente, podemos notar que el valor que hay entre las variables `ingresos_laborales_miles_pesos` y `hogares` es mas cercano a 0 que a 1 por lo que no hay una relación tan clara.\n",
        "\n",
        "Una de las mayores relaciones que se pueden notar es de la variable `ingresos_laborales_miles_pesos` y `poblacion`\n"
      ],
      "metadata": {
        "id": "oeJ3AicA-LH3"
      }
    },
    {
      "cell_type": "markdown",
      "source": [
        "Graficamos la matriz de correlación para podes vizualisar mejor las relacionas.\n",
        "\n",
        "Utilizamos la libreria `seaborn`"
      ],
      "metadata": {
        "id": "m5xXGv6WCjXt"
      }
    },
    {
      "cell_type": "code",
      "source": [
        "sns.heatmap(prov_corr, annot=False)"
      ],
      "metadata": {
        "id": "PL3M2hMfyYaI",
        "colab": {
          "base_uri": "https://localhost:8080/",
          "height": 659
        },
        "outputId": "90af5380-abd6-46af-838d-90a33a729e36"
      },
      "execution_count": 39,
      "outputs": [
        {
          "output_type": "execute_result",
          "data": {
            "text/plain": [
              "<Axes: >"
            ]
          },
          "metadata": {},
          "execution_count": 39
        },
        {
          "output_type": "display_data",
          "data": {
            "text/plain": [
              "<Figure size 640x480 with 2 Axes>"
            ],
            "image/png": "[encoded data removed]"
          },
          "metadata": {}
        }
      ]
    },
    {
      "cell_type": "markdown",
      "source": [
        "Tomaremos las varibles `hogares` , `poblacion` y `superficie_km2` y haremos un análisis sobre las mismas.\n",
        "\n",
        "\n"
      ],
      "metadata": {
        "id": "rDwm8oChEDIF"
      }
    },
    {
      "cell_type": "markdown",
      "source": [
        "Sin visualizar graficamente las varibles, nosotros planteamos las siguientes hipótesis:\n",
        "\n",
        "*   Mientras mas **poblacion** mas **hogares**.\n",
        "*   Mientras mas **superficie** mas **hogares**.\n",
        "*   Mientras mas **superficie** mas **poblacion**.\n",
        "\n",
        "Veremos a traves de graficos, si estas relaciones se cumplen.\n"
      ],
      "metadata": {
        "id": "OUb4xNt7EQvN"
      }
    },
    {
      "cell_type": "markdown",
      "source": [
        "Comenzaremos analizando `poblacion` y `hogares`."
      ],
      "metadata": {
        "id": "Kf5tf7u7Fwyo"
      }
    },
    {
      "cell_type": "code",
      "source": [
        "plt.scatter( prov['poblacion'], prov['hogares'])\n",
        "\n",
        "plt.xlabel('poblacion')\n",
        "plt.ylabel('hogares')\n",
        "\n",
        "plt.show()"
      ],
      "metadata": {
        "id": "XHyNM1Jf0VGO",
        "colab": {
          "base_uri": "https://localhost:8080/",
          "height": 465
        },
        "outputId": "937bc0f5-66c7-4499-c913-c94d1186e022"
      },
      "execution_count": 40,
      "outputs": [
        {
          "output_type": "display_data",
          "data": {
            "text/plain": [
              "<Figure size 640x480 with 1 Axes>"
            ],
            "image/png": "[encoded data removed]"
          },
          "metadata": {}
        }
      ]
    },
    {
      "cell_type": "markdown",
      "source": [
        "Podemos notar que hay una cierta relación entre las variables. La relación no es tan marcada como nosotros creiamos, pero en la mayoria de los casos podemos observar que se cumple lo que plantemos."
      ],
      "metadata": {
        "id": "EHIR9wKqEx_9"
      }
    },
    {
      "cell_type": "markdown",
      "source": [
        "Analizamos `superficie` y `hogares`"
      ],
      "metadata": {
        "id": "zSLZ4bPuGXMz"
      }
    },
    {
      "cell_type": "code",
      "source": [
        "plt.scatter(prov['superficie_km2'], prov['hogares'])\n",
        "\n",
        "plt.xlabel('superfice')\n",
        "plt.ylabel('hogares')\n",
        "\n",
        "plt.show()"
      ],
      "metadata": {
        "colab": {
          "base_uri": "https://localhost:8080/",
          "height": 465
        },
        "id": "7rr6qA8DFBtn",
        "outputId": "8c706852-39e1-4c25-a19b-aa7d9f6192a6"
      },
      "execution_count": 41,
      "outputs": [
        {
          "output_type": "display_data",
          "data": {
            "text/plain": [
              "<Figure size 640x480 with 1 Axes>"
            ],
            "image/png": "[encoded data removed]"
          },
          "metadata": {}
        }
      ]
    },
    {
      "cell_type": "markdown",
      "source": [
        "Podemos notar que no hay una cierta relación entre las variables. Si bien en alguna provincia se debe cumplir nuestra hipótesis, no sucede en la mayoria."
      ],
      "metadata": {
        "id": "4ZaVM58AGtha"
      }
    },
    {
      "cell_type": "markdown",
      "source": [
        "Por ulitmo analizamos `superficie` y `poblacion`"
      ],
      "metadata": {
        "id": "DX3ZLhGaHBf9"
      }
    },
    {
      "cell_type": "code",
      "source": [
        "plt.scatter(prov['superficie_km2'], prov['poblacion'])\n",
        "\n",
        "plt.xlabel('superfice')\n",
        "plt.ylabel('poblacion')\n",
        "\n",
        "plt.show()"
      ],
      "metadata": {
        "colab": {
          "base_uri": "https://localhost:8080/",
          "height": 465
        },
        "id": "gGNY4hZcHBCp",
        "outputId": "944b0ebd-6a2c-490d-b48c-9b03f4b23e13"
      },
      "execution_count": 42,
      "outputs": [
        {
          "output_type": "display_data",
          "data": {
            "text/plain": [
              "<Figure size 640x480 with 1 Axes>"
            ],
            "image/png": "[encoded data removed]"
          },
          "metadata": {}
        }
      ]
    },
    {
      "cell_type": "markdown",
      "source": [
        "Podemos notar que no hay una cierta relación entre las variables. Si bien en alguna provincia se debe cumplir nuestra hipótesis, no sucede en la mayoria."
      ],
      "metadata": {
        "id": "OMGcQYQtHiUC"
      }
    },
    {
      "cell_type": "markdown",
      "source": [
        "# **Conclusión:**"
      ],
      "metadata": {
        "id": "ntfFM06XHi5l"
      }
    },
    {
      "cell_type": "markdown",
      "source": [
        "Nuestra conclusión acerca de lo planteado anteriormente sobre las variables `hogares` , `poblacion` y `superficie_km2` es que la unica relación clara que podemos notar es entre `hogares` y `poblacion`. Esto tiene sentido, ya que Argentina es un pais con mucha cosecha, muchos espacios verdes, desiertos, montañas y no necesarimente la superficie de la provincia va a estar relacionada a la cantidad de hogares ni la cantidad de poblacion de la misma. Si bien es cierto que hay provincias en las cuales se cumplen las 3 hipotesis planteadas anteriormente por nosotros, en la mayoria no se van a cumplir las 3 en simultaneo.\n",
        "\n",
        "En el gráfico realizado anteriormente entre `hogares` y `poblacion` podiamos notar que si bien en la mayoria de casos se cumplia lo planteado, habia algunos casos en los que no. En estos caso, entra en juego la cantidad de personas que viven en un hogar. Si tuvieramos una variable que nos indique cual es el promedio de personas que viven en un hogar por provincia podriamos realizar un análisis mas completo."
      ],
      "metadata": {
        "id": "dPIcOmlcK2_G"
      }
    },
    {
      "cell_type": "markdown",
      "source": [
        "Código en donde convertimos los DF en formato parquet."
      ],
      "metadata": {
        "id": "EeKdHU-NYuzr"
      }
    },
    {
      "cell_type": "code",
      "source": [
        "#prov.to_parquet('prov_parquet')"
      ],
      "metadata": {
        "id": "v0ge9XE5YwIz"
      },
      "execution_count": 43,
      "outputs": []
    }
  ]
}